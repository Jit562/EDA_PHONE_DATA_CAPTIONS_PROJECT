{
  "nbformat": 4,
  "nbformat_minor": 0,
  "metadata": {
    "colab": {
      "provenance": [],
      "collapsed_sections": [
        "dxp3jyPvWRSZ",
        "9p7NYlMcWlv2",
        "Lp4KPqloW1Bz",
        "epAqUsNSXKiv",
        "rwGfwNiyYpVW",
        "1reLXXypYy1Q",
        "UbaOXpKpY2Nc",
        "HINNP2bjZBYR",
        "BMz27na4ZK8M",
        "PXGO0irVZWwJ",
        "zMmVwuTGZhiP",
        "5dD39FE5ZupV",
        "-pw9lOFhZ2KR",
        "fEhHTlQ7aAMt",
        "Gze31NrLaFs5",
        "lkb1b4P7aUgU",
        "mgKUqaL7abXg",
        "lqwjIyTFanWa",
        "d8ppv_lxayiB",
        "FBOm6pD3a78m",
        "yP6NZRgqbJqz",
        "f2HMfbgfcGc6",
        "mD_uBVCycWLj"
      ],
      "mount_file_id": "11TVRfTokTo47ew6tIfaav_MxVFz4-ymr",
      "authorship_tag": "ABX9TyOD8DfsrW2kcLy2dBrs28Ke",
      "include_colab_link": true
    },
    "kernelspec": {
      "name": "python3",
      "display_name": "Python 3"
    },
    "language_info": {
      "name": "python"
    }
  },
  "cells": [
    {
      "cell_type": "markdown",
      "metadata": {
        "id": "view-in-github",
        "colab_type": "text"
      },
      "source": [
        "<a href=\"https://colab.research.google.com/github/Jit562/EDA_PHONE_DATA_CAPTIONS_PROJECT/blob/main/EDA_PHONE_DATA_PROJECT.ipynb\" target=\"_parent\"><img src=\"https://colab.research.google.com/assets/colab-badge.svg\" alt=\"Open In Colab\"/></a>"
      ]
    },
    {
      "cell_type": "markdown",
      "source": [
        "# **Project Name -** Telecome Phone Call Network Data Analysis\n",
        "\n",
        "\n",
        "\n"
      ],
      "metadata": {
        "id": "TZGtodTpT_Ba"
      }
    },
    {
      "cell_type": "markdown",
      "source": [
        "*   Project Type-EDA\n",
        "*   Contribution - Individual"
      ],
      "metadata": {
        "id": "82Djo5ZoV1FX"
      }
    },
    {
      "cell_type": "markdown",
      "source": [
        "# **Project Summary -**\n",
        "\n"
      ],
      "metadata": {
        "id": "dxp3jyPvWRSZ"
      }
    },
    {
      "cell_type": "markdown",
      "source": [
        "\n",
        "Analyzing telecommunication phone call network data provides deep insights into the intricate dynamics of communication patterns, user behavior, and network performance. This comprehensive examination involves scrutinizing various aspects such as call volume, duration, frequency, geographical distribution, and temporal trends.\n",
        "\n",
        "One of the primary objectives of telecommunication phone call network data analysis is to optimize network infrastructure. By understanding call patterns and traffic flow, telecom companies can strategically deploy resources to alleviate congestion, enhance call quality, and ensure seamless connectivity. This optimization process involves identifying high-demand areas, peak usage times, and potential bottlenecks, allowing for targeted upgrades and capacity expansion.\n",
        "\n",
        "Moreover, analyzing call data offers valuable insights into user behavior and preferences. By segmenting customers based on calling habits, demographics, and usage patterns, telecom providers can tailor their services and offerings to meet specific needs effectively. This targeted approach not only enhances customer satisfaction but also enables providers to devise personalized marketing campaigns and promotions, ultimately driving subscriber growth and revenue.\n",
        "\n",
        "Furthermore, telecommunication phone call network data analysis plays a crucial role in network security and fraud detection. By monitoring call traffic for anomalies, suspicious patterns, and unauthorized access attempts, telecom companies can identify and mitigate potential security threats in real-time. This proactive approach helps safeguard sensitive customer information, prevent fraudulent activities, and uphold the integrity of the network infrastructure.\n",
        "\n",
        "Additionally, telecommunication phone call network data analysis contributes to regulatory compliance and policy enforcement. Telecom companies must adhere to various regulations and standards governing data privacy, consumer protection, and network neutrality. By analyzing call data and ensuring compliance with regulatory requirements, telecom providers can avoid legal liabilities, penalties, and reputational damage.\n",
        "\n",
        "In conclusion, telecommunication phone call network data analysis is a multifaceted process that offers numerous benefits for telecom companies, including optimizing network performance, enhancing customer experience, ensuring security and compliance, and driving business growth. By leveraging advanced analytics and machine learning algorithms, telecom providers can unlock valuable insights from call data, enabling them to make informed decisions, improve operational efficiency, and stay competitive in today's dynamic telecommunications landscape.\n",
        "\n",
        "\n",
        "\n",
        "\n",
        "\n",
        "\n"
      ],
      "metadata": {
        "id": "SdTOzOxPz8c7"
      }
    },
    {
      "cell_type": "markdown",
      "source": [
        "# **GitHub Link -**"
      ],
      "metadata": {
        "id": "9p7NYlMcWlv2"
      }
    },
    {
      "cell_type": "markdown",
      "source": [
        "Github Link: https://github.com/Jit562/EDA_PHONE_DATA_CAPTIONS_PROJECT  "
      ],
      "metadata": {
        "id": "rwm6xfDfWvaf"
      }
    },
    {
      "cell_type": "markdown",
      "source": [
        "# **Problem Statement**"
      ],
      "metadata": {
        "id": "Lp4KPqloW1Bz"
      }
    },
    {
      "cell_type": "markdown",
      "source": [
        "Write Problem Statement Here."
      ],
      "metadata": {
        "id": "AohIlvrkW7jg"
      }
    },
    {
      "cell_type": "code",
      "source": [],
      "metadata": {
        "id": "5dEkqwxZXEDt"
      },
      "execution_count": 111,
      "outputs": []
    },
    {
      "cell_type": "markdown",
      "source": [
        "Define Your Business Objective?"
      ],
      "metadata": {
        "id": "YrWAN6uNXH5p"
      }
    },
    {
      "cell_type": "code",
      "source": [],
      "metadata": {
        "id": "Lbqe939xXJbp"
      },
      "execution_count": 111,
      "outputs": []
    },
    {
      "cell_type": "markdown",
      "source": [
        "# **General Guidelines : -**"
      ],
      "metadata": {
        "id": "epAqUsNSXKiv"
      }
    },
    {
      "cell_type": "markdown",
      "source": [
        "\n",
        "\n",
        "1.   Well-structured, formatted, and commented code is required.\n",
        "2.   Exception Handling, Production Grade Code & Deployment Ready Code will be a plus. Those students will be awarded some additional credits.\n",
        "The additional credits will have advantages over other students during Star Student selection.\n",
        "[ Note: - Deployment Ready Code is defined as, the whole .ipynb notebook should be executable in one go without a single error logged. ]\n",
        "3. Each and every logic should have proper comments.\n",
        "4. You may add as many number of charts you want. Make Sure for each and every chart the following format should be answered.\n",
        "\n",
        "\n",
        "\n",
        "\n"
      ],
      "metadata": {
        "id": "-l3sjq6rXO6R"
      }
    },
    {
      "cell_type": "markdown",
      "source": [
        "\n",
        "#   Chart visualization code\n",
        "\n",
        "*   Why did you pick the specific chart?\n",
        "*   What is/are the insight(s) found from the chart?\n",
        "*   Will the gained insights help creating a positive business impact? Are there any insights that lead to negative growth? Justify with specific reason.\n",
        "5.  You have to create at least 20 logical & meaningful charts having important insights.\n",
        "\n",
        "[ Hints : - Do the Vizualization in a structured way while following \"UBM\" Rule.\n",
        "\n",
        "U - Univariate Analysis,\n",
        "\n",
        "B - Bivariate Analysis (Numerical - Categorical, Numerical - Numerical, Categorical - Categorical)\n",
        "\n",
        "M - Multivariate Analysis ]\n",
        "\n"
      ],
      "metadata": {
        "id": "K3ahGn3bX8UM"
      }
    },
    {
      "cell_type": "markdown",
      "source": [
        "# **Let's Begin !**"
      ],
      "metadata": {
        "id": "rwGfwNiyYpVW"
      }
    },
    {
      "cell_type": "code",
      "source": [],
      "metadata": {
        "id": "dCxpc2AWYqi2"
      },
      "execution_count": 111,
      "outputs": []
    },
    {
      "cell_type": "markdown",
      "source": [
        "# **1. Know Your Data**"
      ],
      "metadata": {
        "id": "1reLXXypYy1Q"
      }
    },
    {
      "cell_type": "code",
      "source": [],
      "metadata": {
        "id": "iMdOD2-FY0fU"
      },
      "execution_count": 111,
      "outputs": []
    },
    {
      "cell_type": "markdown",
      "source": [
        "# Import Libraries"
      ],
      "metadata": {
        "id": "UbaOXpKpY2Nc"
      }
    },
    {
      "cell_type": "code",
      "source": [
        "# Import"
      ],
      "metadata": {
        "id": "-iJn0PJPY-ZI"
      },
      "execution_count": 112,
      "outputs": []
    },
    {
      "cell_type": "code",
      "source": [
        "import pandas as pd\n",
        "import numpy as np\n",
        "import seaborn as sns\n",
        "import matplotlib.pyplot as plt\n",
        "import datetime"
      ],
      "metadata": {
        "id": "C8gwk26OZAig"
      },
      "execution_count": 226,
      "outputs": []
    },
    {
      "cell_type": "markdown",
      "source": [
        "# Dataset Loading"
      ],
      "metadata": {
        "id": "HINNP2bjZBYR"
      }
    },
    {
      "cell_type": "code",
      "source": [
        "# Load Dataset"
      ],
      "metadata": {
        "id": "hdFX7UWnZGm1"
      },
      "execution_count": 114,
      "outputs": []
    },
    {
      "cell_type": "code",
      "source": [
        "df = pd.read_csv('drive/MyDrive/Dataset/phone_data.csv')"
      ],
      "metadata": {
        "id": "B4VLGW0Uv5Dd"
      },
      "execution_count": 227,
      "outputs": []
    },
    {
      "cell_type": "markdown",
      "source": [
        "# Dataset First View"
      ],
      "metadata": {
        "id": "BMz27na4ZK8M"
      }
    },
    {
      "cell_type": "code",
      "source": [
        " #Dataset First Look\n"
      ],
      "metadata": {
        "id": "AMIUZrzbZPIG"
      },
      "execution_count": 115,
      "outputs": []
    },
    {
      "cell_type": "code",
      "source": [
        "# Find the First 5 rows and all columns data\n",
        "df.head()"
      ],
      "metadata": {
        "id": "c61nuvhuwNo-",
        "outputId": "2a511408-ff3a-45a3-87b3-1ac4f72958d4",
        "colab": {
          "base_uri": "https://localhost:8080/",
          "height": 206
        }
      },
      "execution_count": 228,
      "outputs": [
        {
          "output_type": "execute_result",
          "data": {
            "text/plain": [
              "   index            date  duration  item    month   network network_type\n",
              "0      0  15/10/14 06:58    34.429  data  2014-11      data         data\n",
              "1      1  15/10/14 06:58    13.000  call  2014-11  Vodafone       mobile\n",
              "2      2  15/10/14 14:46    23.000  call  2014-11    Meteor       mobile\n",
              "3      3  15/10/14 14:48     4.000  call  2014-11     Tesco       mobile\n",
              "4      4  15/10/14 17:27     4.000  call  2014-11     Tesco       mobile"
            ],
            "text/html": [
              "\n",
              "  <div id=\"df-605f7b15-1be8-41ed-a5a3-5722e07beed2\" class=\"colab-df-container\">\n",
              "    <div>\n",
              "<style scoped>\n",
              "    .dataframe tbody tr th:only-of-type {\n",
              "        vertical-align: middle;\n",
              "    }\n",
              "\n",
              "    .dataframe tbody tr th {\n",
              "        vertical-align: top;\n",
              "    }\n",
              "\n",
              "    .dataframe thead th {\n",
              "        text-align: right;\n",
              "    }\n",
              "</style>\n",
              "<table border=\"1\" class=\"dataframe\">\n",
              "  <thead>\n",
              "    <tr style=\"text-align: right;\">\n",
              "      <th></th>\n",
              "      <th>index</th>\n",
              "      <th>date</th>\n",
              "      <th>duration</th>\n",
              "      <th>item</th>\n",
              "      <th>month</th>\n",
              "      <th>network</th>\n",
              "      <th>network_type</th>\n",
              "    </tr>\n",
              "  </thead>\n",
              "  <tbody>\n",
              "    <tr>\n",
              "      <th>0</th>\n",
              "      <td>0</td>\n",
              "      <td>15/10/14 06:58</td>\n",
              "      <td>34.429</td>\n",
              "      <td>data</td>\n",
              "      <td>2014-11</td>\n",
              "      <td>data</td>\n",
              "      <td>data</td>\n",
              "    </tr>\n",
              "    <tr>\n",
              "      <th>1</th>\n",
              "      <td>1</td>\n",
              "      <td>15/10/14 06:58</td>\n",
              "      <td>13.000</td>\n",
              "      <td>call</td>\n",
              "      <td>2014-11</td>\n",
              "      <td>Vodafone</td>\n",
              "      <td>mobile</td>\n",
              "    </tr>\n",
              "    <tr>\n",
              "      <th>2</th>\n",
              "      <td>2</td>\n",
              "      <td>15/10/14 14:46</td>\n",
              "      <td>23.000</td>\n",
              "      <td>call</td>\n",
              "      <td>2014-11</td>\n",
              "      <td>Meteor</td>\n",
              "      <td>mobile</td>\n",
              "    </tr>\n",
              "    <tr>\n",
              "      <th>3</th>\n",
              "      <td>3</td>\n",
              "      <td>15/10/14 14:48</td>\n",
              "      <td>4.000</td>\n",
              "      <td>call</td>\n",
              "      <td>2014-11</td>\n",
              "      <td>Tesco</td>\n",
              "      <td>mobile</td>\n",
              "    </tr>\n",
              "    <tr>\n",
              "      <th>4</th>\n",
              "      <td>4</td>\n",
              "      <td>15/10/14 17:27</td>\n",
              "      <td>4.000</td>\n",
              "      <td>call</td>\n",
              "      <td>2014-11</td>\n",
              "      <td>Tesco</td>\n",
              "      <td>mobile</td>\n",
              "    </tr>\n",
              "  </tbody>\n",
              "</table>\n",
              "</div>\n",
              "    <div class=\"colab-df-buttons\">\n",
              "\n",
              "  <div class=\"colab-df-container\">\n",
              "    <button class=\"colab-df-convert\" onclick=\"convertToInteractive('df-605f7b15-1be8-41ed-a5a3-5722e07beed2')\"\n",
              "            title=\"Convert this dataframe to an interactive table.\"\n",
              "            style=\"display:none;\">\n",
              "\n",
              "  <svg xmlns=\"http://www.w3.org/2000/svg\" height=\"24px\" viewBox=\"0 -960 960 960\">\n",
              "    <path d=\"M120-120v-720h720v720H120Zm60-500h600v-160H180v160Zm220 220h160v-160H400v160Zm0 220h160v-160H400v160ZM180-400h160v-160H180v160Zm440 0h160v-160H620v160ZM180-180h160v-160H180v160Zm440 0h160v-160H620v160Z\"/>\n",
              "  </svg>\n",
              "    </button>\n",
              "\n",
              "  <style>\n",
              "    .colab-df-container {\n",
              "      display:flex;\n",
              "      gap: 12px;\n",
              "    }\n",
              "\n",
              "    .colab-df-convert {\n",
              "      background-color: #E8F0FE;\n",
              "      border: none;\n",
              "      border-radius: 50%;\n",
              "      cursor: pointer;\n",
              "      display: none;\n",
              "      fill: #1967D2;\n",
              "      height: 32px;\n",
              "      padding: 0 0 0 0;\n",
              "      width: 32px;\n",
              "    }\n",
              "\n",
              "    .colab-df-convert:hover {\n",
              "      background-color: #E2EBFA;\n",
              "      box-shadow: 0px 1px 2px rgba(60, 64, 67, 0.3), 0px 1px 3px 1px rgba(60, 64, 67, 0.15);\n",
              "      fill: #174EA6;\n",
              "    }\n",
              "\n",
              "    .colab-df-buttons div {\n",
              "      margin-bottom: 4px;\n",
              "    }\n",
              "\n",
              "    [theme=dark] .colab-df-convert {\n",
              "      background-color: #3B4455;\n",
              "      fill: #D2E3FC;\n",
              "    }\n",
              "\n",
              "    [theme=dark] .colab-df-convert:hover {\n",
              "      background-color: #434B5C;\n",
              "      box-shadow: 0px 1px 3px 1px rgba(0, 0, 0, 0.15);\n",
              "      filter: drop-shadow(0px 1px 2px rgba(0, 0, 0, 0.3));\n",
              "      fill: #FFFFFF;\n",
              "    }\n",
              "  </style>\n",
              "\n",
              "    <script>\n",
              "      const buttonEl =\n",
              "        document.querySelector('#df-605f7b15-1be8-41ed-a5a3-5722e07beed2 button.colab-df-convert');\n",
              "      buttonEl.style.display =\n",
              "        google.colab.kernel.accessAllowed ? 'block' : 'none';\n",
              "\n",
              "      async function convertToInteractive(key) {\n",
              "        const element = document.querySelector('#df-605f7b15-1be8-41ed-a5a3-5722e07beed2');\n",
              "        const dataTable =\n",
              "          await google.colab.kernel.invokeFunction('convertToInteractive',\n",
              "                                                    [key], {});\n",
              "        if (!dataTable) return;\n",
              "\n",
              "        const docLinkHtml = 'Like what you see? Visit the ' +\n",
              "          '<a target=\"_blank\" href=https://colab.research.google.com/notebooks/data_table.ipynb>data table notebook</a>'\n",
              "          + ' to learn more about interactive tables.';\n",
              "        element.innerHTML = '';\n",
              "        dataTable['output_type'] = 'display_data';\n",
              "        await google.colab.output.renderOutput(dataTable, element);\n",
              "        const docLink = document.createElement('div');\n",
              "        docLink.innerHTML = docLinkHtml;\n",
              "        element.appendChild(docLink);\n",
              "      }\n",
              "    </script>\n",
              "  </div>\n",
              "\n",
              "\n",
              "<div id=\"df-2541214f-3eb3-4b56-9176-bb8a7f3e09c0\">\n",
              "  <button class=\"colab-df-quickchart\" onclick=\"quickchart('df-2541214f-3eb3-4b56-9176-bb8a7f3e09c0')\"\n",
              "            title=\"Suggest charts\"\n",
              "            style=\"display:none;\">\n",
              "\n",
              "<svg xmlns=\"http://www.w3.org/2000/svg\" height=\"24px\"viewBox=\"0 0 24 24\"\n",
              "     width=\"24px\">\n",
              "    <g>\n",
              "        <path d=\"M19 3H5c-1.1 0-2 .9-2 2v14c0 1.1.9 2 2 2h14c1.1 0 2-.9 2-2V5c0-1.1-.9-2-2-2zM9 17H7v-7h2v7zm4 0h-2V7h2v10zm4 0h-2v-4h2v4z\"/>\n",
              "    </g>\n",
              "</svg>\n",
              "  </button>\n",
              "\n",
              "<style>\n",
              "  .colab-df-quickchart {\n",
              "      --bg-color: #E8F0FE;\n",
              "      --fill-color: #1967D2;\n",
              "      --hover-bg-color: #E2EBFA;\n",
              "      --hover-fill-color: #174EA6;\n",
              "      --disabled-fill-color: #AAA;\n",
              "      --disabled-bg-color: #DDD;\n",
              "  }\n",
              "\n",
              "  [theme=dark] .colab-df-quickchart {\n",
              "      --bg-color: #3B4455;\n",
              "      --fill-color: #D2E3FC;\n",
              "      --hover-bg-color: #434B5C;\n",
              "      --hover-fill-color: #FFFFFF;\n",
              "      --disabled-bg-color: #3B4455;\n",
              "      --disabled-fill-color: #666;\n",
              "  }\n",
              "\n",
              "  .colab-df-quickchart {\n",
              "    background-color: var(--bg-color);\n",
              "    border: none;\n",
              "    border-radius: 50%;\n",
              "    cursor: pointer;\n",
              "    display: none;\n",
              "    fill: var(--fill-color);\n",
              "    height: 32px;\n",
              "    padding: 0;\n",
              "    width: 32px;\n",
              "  }\n",
              "\n",
              "  .colab-df-quickchart:hover {\n",
              "    background-color: var(--hover-bg-color);\n",
              "    box-shadow: 0 1px 2px rgba(60, 64, 67, 0.3), 0 1px 3px 1px rgba(60, 64, 67, 0.15);\n",
              "    fill: var(--button-hover-fill-color);\n",
              "  }\n",
              "\n",
              "  .colab-df-quickchart-complete:disabled,\n",
              "  .colab-df-quickchart-complete:disabled:hover {\n",
              "    background-color: var(--disabled-bg-color);\n",
              "    fill: var(--disabled-fill-color);\n",
              "    box-shadow: none;\n",
              "  }\n",
              "\n",
              "  .colab-df-spinner {\n",
              "    border: 2px solid var(--fill-color);\n",
              "    border-color: transparent;\n",
              "    border-bottom-color: var(--fill-color);\n",
              "    animation:\n",
              "      spin 1s steps(1) infinite;\n",
              "  }\n",
              "\n",
              "  @keyframes spin {\n",
              "    0% {\n",
              "      border-color: transparent;\n",
              "      border-bottom-color: var(--fill-color);\n",
              "      border-left-color: var(--fill-color);\n",
              "    }\n",
              "    20% {\n",
              "      border-color: transparent;\n",
              "      border-left-color: var(--fill-color);\n",
              "      border-top-color: var(--fill-color);\n",
              "    }\n",
              "    30% {\n",
              "      border-color: transparent;\n",
              "      border-left-color: var(--fill-color);\n",
              "      border-top-color: var(--fill-color);\n",
              "      border-right-color: var(--fill-color);\n",
              "    }\n",
              "    40% {\n",
              "      border-color: transparent;\n",
              "      border-right-color: var(--fill-color);\n",
              "      border-top-color: var(--fill-color);\n",
              "    }\n",
              "    60% {\n",
              "      border-color: transparent;\n",
              "      border-right-color: var(--fill-color);\n",
              "    }\n",
              "    80% {\n",
              "      border-color: transparent;\n",
              "      border-right-color: var(--fill-color);\n",
              "      border-bottom-color: var(--fill-color);\n",
              "    }\n",
              "    90% {\n",
              "      border-color: transparent;\n",
              "      border-bottom-color: var(--fill-color);\n",
              "    }\n",
              "  }\n",
              "</style>\n",
              "\n",
              "  <script>\n",
              "    async function quickchart(key) {\n",
              "      const quickchartButtonEl =\n",
              "        document.querySelector('#' + key + ' button');\n",
              "      quickchartButtonEl.disabled = true;  // To prevent multiple clicks.\n",
              "      quickchartButtonEl.classList.add('colab-df-spinner');\n",
              "      try {\n",
              "        const charts = await google.colab.kernel.invokeFunction(\n",
              "            'suggestCharts', [key], {});\n",
              "      } catch (error) {\n",
              "        console.error('Error during call to suggestCharts:', error);\n",
              "      }\n",
              "      quickchartButtonEl.classList.remove('colab-df-spinner');\n",
              "      quickchartButtonEl.classList.add('colab-df-quickchart-complete');\n",
              "    }\n",
              "    (() => {\n",
              "      let quickchartButtonEl =\n",
              "        document.querySelector('#df-2541214f-3eb3-4b56-9176-bb8a7f3e09c0 button');\n",
              "      quickchartButtonEl.style.display =\n",
              "        google.colab.kernel.accessAllowed ? 'block' : 'none';\n",
              "    })();\n",
              "  </script>\n",
              "</div>\n",
              "\n",
              "    </div>\n",
              "  </div>\n"
            ],
            "application/vnd.google.colaboratory.intrinsic+json": {
              "type": "dataframe",
              "variable_name": "df",
              "summary": "{\n  \"name\": \"df\",\n  \"rows\": 830,\n  \"fields\": [\n    {\n      \"column\": \"index\",\n      \"properties\": {\n        \"dtype\": \"number\",\n        \"std\": 239,\n        \"min\": 0,\n        \"max\": 829,\n        \"num_unique_values\": 830,\n        \"samples\": [\n          608,\n          457,\n          290\n        ],\n        \"semantic_type\": \"\",\n        \"description\": \"\"\n      }\n    },\n    {\n      \"column\": \"date\",\n      \"properties\": {\n        \"dtype\": \"object\",\n        \"num_unique_values\": 747,\n        \"samples\": [\n          \"13/11/14 06:58\",\n          \"23/11/14 17:36\",\n          \"31/10/14 13:26\"\n        ],\n        \"semantic_type\": \"\",\n        \"description\": \"\"\n      }\n    },\n    {\n      \"column\": \"duration\",\n      \"properties\": {\n        \"dtype\": \"number\",\n        \"std\": 444.12956022283186,\n        \"min\": 1.0,\n        \"max\": 10528.0,\n        \"num_unique_values\": 221,\n        \"samples\": [\n          566.0,\n          16.0,\n          21.0\n        ],\n        \"semantic_type\": \"\",\n        \"description\": \"\"\n      }\n    },\n    {\n      \"column\": \"item\",\n      \"properties\": {\n        \"dtype\": \"category\",\n        \"num_unique_values\": 3,\n        \"samples\": [\n          \"data\",\n          \"call\",\n          \"sms\"\n        ],\n        \"semantic_type\": \"\",\n        \"description\": \"\"\n      }\n    },\n    {\n      \"column\": \"month\",\n      \"properties\": {\n        \"dtype\": \"object\",\n        \"num_unique_values\": 5,\n        \"samples\": [\n          \"2014-12\",\n          \"2015-03\",\n          \"2015-01\"\n        ],\n        \"semantic_type\": \"\",\n        \"description\": \"\"\n      }\n    },\n    {\n      \"column\": \"network\",\n      \"properties\": {\n        \"dtype\": \"category\",\n        \"num_unique_values\": 9,\n        \"samples\": [\n          \"special\",\n          \"Vodafone\",\n          \"voicemail\"\n        ],\n        \"semantic_type\": \"\",\n        \"description\": \"\"\n      }\n    },\n    {\n      \"column\": \"network_type\",\n      \"properties\": {\n        \"dtype\": \"category\",\n        \"num_unique_values\": 6,\n        \"samples\": [\n          \"data\",\n          \"mobile\",\n          \"world\"\n        ],\n        \"semantic_type\": \"\",\n        \"description\": \"\"\n      }\n    }\n  ]\n}"
            }
          },
          "metadata": {},
          "execution_count": 228
        }
      ]
    },
    {
      "cell_type": "code",
      "source": [
        "# Find the last 5 rows and all columns data\n",
        "df.tail()"
      ],
      "metadata": {
        "id": "5wNx6W7uwRKJ",
        "outputId": "07cce073-cef9-4310-e242-a56e2a079539",
        "colab": {
          "base_uri": "https://localhost:8080/",
          "height": 206
        }
      },
      "execution_count": 229,
      "outputs": [
        {
          "output_type": "execute_result",
          "data": {
            "text/plain": [
              "     index            date  duration  item    month   network network_type\n",
              "825    825  13/03/15 00:38     1.000   sms  2015-03     world        world\n",
              "826    826  13/03/15 00:39     1.000   sms  2015-03  Vodafone       mobile\n",
              "827    827  13/03/15 06:58    34.429  data  2015-03      data         data\n",
              "828    828  14/03/15 00:13     1.000   sms  2015-03     world        world\n",
              "829    829  14/03/15 00:16     1.000   sms  2015-03     world        world"
            ],
            "text/html": [
              "\n",
              "  <div id=\"df-f3d2b6dc-9f32-495c-869b-ebe9960b138d\" class=\"colab-df-container\">\n",
              "    <div>\n",
              "<style scoped>\n",
              "    .dataframe tbody tr th:only-of-type {\n",
              "        vertical-align: middle;\n",
              "    }\n",
              "\n",
              "    .dataframe tbody tr th {\n",
              "        vertical-align: top;\n",
              "    }\n",
              "\n",
              "    .dataframe thead th {\n",
              "        text-align: right;\n",
              "    }\n",
              "</style>\n",
              "<table border=\"1\" class=\"dataframe\">\n",
              "  <thead>\n",
              "    <tr style=\"text-align: right;\">\n",
              "      <th></th>\n",
              "      <th>index</th>\n",
              "      <th>date</th>\n",
              "      <th>duration</th>\n",
              "      <th>item</th>\n",
              "      <th>month</th>\n",
              "      <th>network</th>\n",
              "      <th>network_type</th>\n",
              "    </tr>\n",
              "  </thead>\n",
              "  <tbody>\n",
              "    <tr>\n",
              "      <th>825</th>\n",
              "      <td>825</td>\n",
              "      <td>13/03/15 00:38</td>\n",
              "      <td>1.000</td>\n",
              "      <td>sms</td>\n",
              "      <td>2015-03</td>\n",
              "      <td>world</td>\n",
              "      <td>world</td>\n",
              "    </tr>\n",
              "    <tr>\n",
              "      <th>826</th>\n",
              "      <td>826</td>\n",
              "      <td>13/03/15 00:39</td>\n",
              "      <td>1.000</td>\n",
              "      <td>sms</td>\n",
              "      <td>2015-03</td>\n",
              "      <td>Vodafone</td>\n",
              "      <td>mobile</td>\n",
              "    </tr>\n",
              "    <tr>\n",
              "      <th>827</th>\n",
              "      <td>827</td>\n",
              "      <td>13/03/15 06:58</td>\n",
              "      <td>34.429</td>\n",
              "      <td>data</td>\n",
              "      <td>2015-03</td>\n",
              "      <td>data</td>\n",
              "      <td>data</td>\n",
              "    </tr>\n",
              "    <tr>\n",
              "      <th>828</th>\n",
              "      <td>828</td>\n",
              "      <td>14/03/15 00:13</td>\n",
              "      <td>1.000</td>\n",
              "      <td>sms</td>\n",
              "      <td>2015-03</td>\n",
              "      <td>world</td>\n",
              "      <td>world</td>\n",
              "    </tr>\n",
              "    <tr>\n",
              "      <th>829</th>\n",
              "      <td>829</td>\n",
              "      <td>14/03/15 00:16</td>\n",
              "      <td>1.000</td>\n",
              "      <td>sms</td>\n",
              "      <td>2015-03</td>\n",
              "      <td>world</td>\n",
              "      <td>world</td>\n",
              "    </tr>\n",
              "  </tbody>\n",
              "</table>\n",
              "</div>\n",
              "    <div class=\"colab-df-buttons\">\n",
              "\n",
              "  <div class=\"colab-df-container\">\n",
              "    <button class=\"colab-df-convert\" onclick=\"convertToInteractive('df-f3d2b6dc-9f32-495c-869b-ebe9960b138d')\"\n",
              "            title=\"Convert this dataframe to an interactive table.\"\n",
              "            style=\"display:none;\">\n",
              "\n",
              "  <svg xmlns=\"http://www.w3.org/2000/svg\" height=\"24px\" viewBox=\"0 -960 960 960\">\n",
              "    <path d=\"M120-120v-720h720v720H120Zm60-500h600v-160H180v160Zm220 220h160v-160H400v160Zm0 220h160v-160H400v160ZM180-400h160v-160H180v160Zm440 0h160v-160H620v160ZM180-180h160v-160H180v160Zm440 0h160v-160H620v160Z\"/>\n",
              "  </svg>\n",
              "    </button>\n",
              "\n",
              "  <style>\n",
              "    .colab-df-container {\n",
              "      display:flex;\n",
              "      gap: 12px;\n",
              "    }\n",
              "\n",
              "    .colab-df-convert {\n",
              "      background-color: #E8F0FE;\n",
              "      border: none;\n",
              "      border-radius: 50%;\n",
              "      cursor: pointer;\n",
              "      display: none;\n",
              "      fill: #1967D2;\n",
              "      height: 32px;\n",
              "      padding: 0 0 0 0;\n",
              "      width: 32px;\n",
              "    }\n",
              "\n",
              "    .colab-df-convert:hover {\n",
              "      background-color: #E2EBFA;\n",
              "      box-shadow: 0px 1px 2px rgba(60, 64, 67, 0.3), 0px 1px 3px 1px rgba(60, 64, 67, 0.15);\n",
              "      fill: #174EA6;\n",
              "    }\n",
              "\n",
              "    .colab-df-buttons div {\n",
              "      margin-bottom: 4px;\n",
              "    }\n",
              "\n",
              "    [theme=dark] .colab-df-convert {\n",
              "      background-color: #3B4455;\n",
              "      fill: #D2E3FC;\n",
              "    }\n",
              "\n",
              "    [theme=dark] .colab-df-convert:hover {\n",
              "      background-color: #434B5C;\n",
              "      box-shadow: 0px 1px 3px 1px rgba(0, 0, 0, 0.15);\n",
              "      filter: drop-shadow(0px 1px 2px rgba(0, 0, 0, 0.3));\n",
              "      fill: #FFFFFF;\n",
              "    }\n",
              "  </style>\n",
              "\n",
              "    <script>\n",
              "      const buttonEl =\n",
              "        document.querySelector('#df-f3d2b6dc-9f32-495c-869b-ebe9960b138d button.colab-df-convert');\n",
              "      buttonEl.style.display =\n",
              "        google.colab.kernel.accessAllowed ? 'block' : 'none';\n",
              "\n",
              "      async function convertToInteractive(key) {\n",
              "        const element = document.querySelector('#df-f3d2b6dc-9f32-495c-869b-ebe9960b138d');\n",
              "        const dataTable =\n",
              "          await google.colab.kernel.invokeFunction('convertToInteractive',\n",
              "                                                    [key], {});\n",
              "        if (!dataTable) return;\n",
              "\n",
              "        const docLinkHtml = 'Like what you see? Visit the ' +\n",
              "          '<a target=\"_blank\" href=https://colab.research.google.com/notebooks/data_table.ipynb>data table notebook</a>'\n",
              "          + ' to learn more about interactive tables.';\n",
              "        element.innerHTML = '';\n",
              "        dataTable['output_type'] = 'display_data';\n",
              "        await google.colab.output.renderOutput(dataTable, element);\n",
              "        const docLink = document.createElement('div');\n",
              "        docLink.innerHTML = docLinkHtml;\n",
              "        element.appendChild(docLink);\n",
              "      }\n",
              "    </script>\n",
              "  </div>\n",
              "\n",
              "\n",
              "<div id=\"df-fb2df760-11e5-445a-b1c8-fcefe4494d74\">\n",
              "  <button class=\"colab-df-quickchart\" onclick=\"quickchart('df-fb2df760-11e5-445a-b1c8-fcefe4494d74')\"\n",
              "            title=\"Suggest charts\"\n",
              "            style=\"display:none;\">\n",
              "\n",
              "<svg xmlns=\"http://www.w3.org/2000/svg\" height=\"24px\"viewBox=\"0 0 24 24\"\n",
              "     width=\"24px\">\n",
              "    <g>\n",
              "        <path d=\"M19 3H5c-1.1 0-2 .9-2 2v14c0 1.1.9 2 2 2h14c1.1 0 2-.9 2-2V5c0-1.1-.9-2-2-2zM9 17H7v-7h2v7zm4 0h-2V7h2v10zm4 0h-2v-4h2v4z\"/>\n",
              "    </g>\n",
              "</svg>\n",
              "  </button>\n",
              "\n",
              "<style>\n",
              "  .colab-df-quickchart {\n",
              "      --bg-color: #E8F0FE;\n",
              "      --fill-color: #1967D2;\n",
              "      --hover-bg-color: #E2EBFA;\n",
              "      --hover-fill-color: #174EA6;\n",
              "      --disabled-fill-color: #AAA;\n",
              "      --disabled-bg-color: #DDD;\n",
              "  }\n",
              "\n",
              "  [theme=dark] .colab-df-quickchart {\n",
              "      --bg-color: #3B4455;\n",
              "      --fill-color: #D2E3FC;\n",
              "      --hover-bg-color: #434B5C;\n",
              "      --hover-fill-color: #FFFFFF;\n",
              "      --disabled-bg-color: #3B4455;\n",
              "      --disabled-fill-color: #666;\n",
              "  }\n",
              "\n",
              "  .colab-df-quickchart {\n",
              "    background-color: var(--bg-color);\n",
              "    border: none;\n",
              "    border-radius: 50%;\n",
              "    cursor: pointer;\n",
              "    display: none;\n",
              "    fill: var(--fill-color);\n",
              "    height: 32px;\n",
              "    padding: 0;\n",
              "    width: 32px;\n",
              "  }\n",
              "\n",
              "  .colab-df-quickchart:hover {\n",
              "    background-color: var(--hover-bg-color);\n",
              "    box-shadow: 0 1px 2px rgba(60, 64, 67, 0.3), 0 1px 3px 1px rgba(60, 64, 67, 0.15);\n",
              "    fill: var(--button-hover-fill-color);\n",
              "  }\n",
              "\n",
              "  .colab-df-quickchart-complete:disabled,\n",
              "  .colab-df-quickchart-complete:disabled:hover {\n",
              "    background-color: var(--disabled-bg-color);\n",
              "    fill: var(--disabled-fill-color);\n",
              "    box-shadow: none;\n",
              "  }\n",
              "\n",
              "  .colab-df-spinner {\n",
              "    border: 2px solid var(--fill-color);\n",
              "    border-color: transparent;\n",
              "    border-bottom-color: var(--fill-color);\n",
              "    animation:\n",
              "      spin 1s steps(1) infinite;\n",
              "  }\n",
              "\n",
              "  @keyframes spin {\n",
              "    0% {\n",
              "      border-color: transparent;\n",
              "      border-bottom-color: var(--fill-color);\n",
              "      border-left-color: var(--fill-color);\n",
              "    }\n",
              "    20% {\n",
              "      border-color: transparent;\n",
              "      border-left-color: var(--fill-color);\n",
              "      border-top-color: var(--fill-color);\n",
              "    }\n",
              "    30% {\n",
              "      border-color: transparent;\n",
              "      border-left-color: var(--fill-color);\n",
              "      border-top-color: var(--fill-color);\n",
              "      border-right-color: var(--fill-color);\n",
              "    }\n",
              "    40% {\n",
              "      border-color: transparent;\n",
              "      border-right-color: var(--fill-color);\n",
              "      border-top-color: var(--fill-color);\n",
              "    }\n",
              "    60% {\n",
              "      border-color: transparent;\n",
              "      border-right-color: var(--fill-color);\n",
              "    }\n",
              "    80% {\n",
              "      border-color: transparent;\n",
              "      border-right-color: var(--fill-color);\n",
              "      border-bottom-color: var(--fill-color);\n",
              "    }\n",
              "    90% {\n",
              "      border-color: transparent;\n",
              "      border-bottom-color: var(--fill-color);\n",
              "    }\n",
              "  }\n",
              "</style>\n",
              "\n",
              "  <script>\n",
              "    async function quickchart(key) {\n",
              "      const quickchartButtonEl =\n",
              "        document.querySelector('#' + key + ' button');\n",
              "      quickchartButtonEl.disabled = true;  // To prevent multiple clicks.\n",
              "      quickchartButtonEl.classList.add('colab-df-spinner');\n",
              "      try {\n",
              "        const charts = await google.colab.kernel.invokeFunction(\n",
              "            'suggestCharts', [key], {});\n",
              "      } catch (error) {\n",
              "        console.error('Error during call to suggestCharts:', error);\n",
              "      }\n",
              "      quickchartButtonEl.classList.remove('colab-df-spinner');\n",
              "      quickchartButtonEl.classList.add('colab-df-quickchart-complete');\n",
              "    }\n",
              "    (() => {\n",
              "      let quickchartButtonEl =\n",
              "        document.querySelector('#df-fb2df760-11e5-445a-b1c8-fcefe4494d74 button');\n",
              "      quickchartButtonEl.style.display =\n",
              "        google.colab.kernel.accessAllowed ? 'block' : 'none';\n",
              "    })();\n",
              "  </script>\n",
              "</div>\n",
              "\n",
              "    </div>\n",
              "  </div>\n"
            ],
            "application/vnd.google.colaboratory.intrinsic+json": {
              "type": "dataframe",
              "repr_error": "0"
            }
          },
          "metadata": {},
          "execution_count": 229
        }
      ]
    },
    {
      "cell_type": "code",
      "source": [
        "# Find the any 5 rows and all columns data\n",
        "df.sample(5)"
      ],
      "metadata": {
        "id": "Q84AoD9VwT7f",
        "outputId": "766d1231-1840-458b-b553-aa6796a2751e",
        "colab": {
          "base_uri": "https://localhost:8080/",
          "height": 206
        }
      },
      "execution_count": 230,
      "outputs": [
        {
          "output_type": "execute_result",
          "data": {
            "text/plain": [
              "     index            date  duration  item    month   network network_type\n",
              "97      97  30/10/14 06:58    34.429  data  2014-11      data         data\n",
              "309    309  26/11/14 07:59     4.000  call  2014-12     Three       mobile\n",
              "708    708  07/02/15 16:27   141.000  call  2015-02  landline     landline\n",
              "148    148  04/11/14 20:15     1.000   sms  2014-11    Meteor       mobile\n",
              "709    709  07/02/15 17:33   795.000  call  2015-02     Three       mobile"
            ],
            "text/html": [
              "\n",
              "  <div id=\"df-32085b14-ea31-444d-9523-da7b2761bd49\" class=\"colab-df-container\">\n",
              "    <div>\n",
              "<style scoped>\n",
              "    .dataframe tbody tr th:only-of-type {\n",
              "        vertical-align: middle;\n",
              "    }\n",
              "\n",
              "    .dataframe tbody tr th {\n",
              "        vertical-align: top;\n",
              "    }\n",
              "\n",
              "    .dataframe thead th {\n",
              "        text-align: right;\n",
              "    }\n",
              "</style>\n",
              "<table border=\"1\" class=\"dataframe\">\n",
              "  <thead>\n",
              "    <tr style=\"text-align: right;\">\n",
              "      <th></th>\n",
              "      <th>index</th>\n",
              "      <th>date</th>\n",
              "      <th>duration</th>\n",
              "      <th>item</th>\n",
              "      <th>month</th>\n",
              "      <th>network</th>\n",
              "      <th>network_type</th>\n",
              "    </tr>\n",
              "  </thead>\n",
              "  <tbody>\n",
              "    <tr>\n",
              "      <th>97</th>\n",
              "      <td>97</td>\n",
              "      <td>30/10/14 06:58</td>\n",
              "      <td>34.429</td>\n",
              "      <td>data</td>\n",
              "      <td>2014-11</td>\n",
              "      <td>data</td>\n",
              "      <td>data</td>\n",
              "    </tr>\n",
              "    <tr>\n",
              "      <th>309</th>\n",
              "      <td>309</td>\n",
              "      <td>26/11/14 07:59</td>\n",
              "      <td>4.000</td>\n",
              "      <td>call</td>\n",
              "      <td>2014-12</td>\n",
              "      <td>Three</td>\n",
              "      <td>mobile</td>\n",
              "    </tr>\n",
              "    <tr>\n",
              "      <th>708</th>\n",
              "      <td>708</td>\n",
              "      <td>07/02/15 16:27</td>\n",
              "      <td>141.000</td>\n",
              "      <td>call</td>\n",
              "      <td>2015-02</td>\n",
              "      <td>landline</td>\n",
              "      <td>landline</td>\n",
              "    </tr>\n",
              "    <tr>\n",
              "      <th>148</th>\n",
              "      <td>148</td>\n",
              "      <td>04/11/14 20:15</td>\n",
              "      <td>1.000</td>\n",
              "      <td>sms</td>\n",
              "      <td>2014-11</td>\n",
              "      <td>Meteor</td>\n",
              "      <td>mobile</td>\n",
              "    </tr>\n",
              "    <tr>\n",
              "      <th>709</th>\n",
              "      <td>709</td>\n",
              "      <td>07/02/15 17:33</td>\n",
              "      <td>795.000</td>\n",
              "      <td>call</td>\n",
              "      <td>2015-02</td>\n",
              "      <td>Three</td>\n",
              "      <td>mobile</td>\n",
              "    </tr>\n",
              "  </tbody>\n",
              "</table>\n",
              "</div>\n",
              "    <div class=\"colab-df-buttons\">\n",
              "\n",
              "  <div class=\"colab-df-container\">\n",
              "    <button class=\"colab-df-convert\" onclick=\"convertToInteractive('df-32085b14-ea31-444d-9523-da7b2761bd49')\"\n",
              "            title=\"Convert this dataframe to an interactive table.\"\n",
              "            style=\"display:none;\">\n",
              "\n",
              "  <svg xmlns=\"http://www.w3.org/2000/svg\" height=\"24px\" viewBox=\"0 -960 960 960\">\n",
              "    <path d=\"M120-120v-720h720v720H120Zm60-500h600v-160H180v160Zm220 220h160v-160H400v160Zm0 220h160v-160H400v160ZM180-400h160v-160H180v160Zm440 0h160v-160H620v160ZM180-180h160v-160H180v160Zm440 0h160v-160H620v160Z\"/>\n",
              "  </svg>\n",
              "    </button>\n",
              "\n",
              "  <style>\n",
              "    .colab-df-container {\n",
              "      display:flex;\n",
              "      gap: 12px;\n",
              "    }\n",
              "\n",
              "    .colab-df-convert {\n",
              "      background-color: #E8F0FE;\n",
              "      border: none;\n",
              "      border-radius: 50%;\n",
              "      cursor: pointer;\n",
              "      display: none;\n",
              "      fill: #1967D2;\n",
              "      height: 32px;\n",
              "      padding: 0 0 0 0;\n",
              "      width: 32px;\n",
              "    }\n",
              "\n",
              "    .colab-df-convert:hover {\n",
              "      background-color: #E2EBFA;\n",
              "      box-shadow: 0px 1px 2px rgba(60, 64, 67, 0.3), 0px 1px 3px 1px rgba(60, 64, 67, 0.15);\n",
              "      fill: #174EA6;\n",
              "    }\n",
              "\n",
              "    .colab-df-buttons div {\n",
              "      margin-bottom: 4px;\n",
              "    }\n",
              "\n",
              "    [theme=dark] .colab-df-convert {\n",
              "      background-color: #3B4455;\n",
              "      fill: #D2E3FC;\n",
              "    }\n",
              "\n",
              "    [theme=dark] .colab-df-convert:hover {\n",
              "      background-color: #434B5C;\n",
              "      box-shadow: 0px 1px 3px 1px rgba(0, 0, 0, 0.15);\n",
              "      filter: drop-shadow(0px 1px 2px rgba(0, 0, 0, 0.3));\n",
              "      fill: #FFFFFF;\n",
              "    }\n",
              "  </style>\n",
              "\n",
              "    <script>\n",
              "      const buttonEl =\n",
              "        document.querySelector('#df-32085b14-ea31-444d-9523-da7b2761bd49 button.colab-df-convert');\n",
              "      buttonEl.style.display =\n",
              "        google.colab.kernel.accessAllowed ? 'block' : 'none';\n",
              "\n",
              "      async function convertToInteractive(key) {\n",
              "        const element = document.querySelector('#df-32085b14-ea31-444d-9523-da7b2761bd49');\n",
              "        const dataTable =\n",
              "          await google.colab.kernel.invokeFunction('convertToInteractive',\n",
              "                                                    [key], {});\n",
              "        if (!dataTable) return;\n",
              "\n",
              "        const docLinkHtml = 'Like what you see? Visit the ' +\n",
              "          '<a target=\"_blank\" href=https://colab.research.google.com/notebooks/data_table.ipynb>data table notebook</a>'\n",
              "          + ' to learn more about interactive tables.';\n",
              "        element.innerHTML = '';\n",
              "        dataTable['output_type'] = 'display_data';\n",
              "        await google.colab.output.renderOutput(dataTable, element);\n",
              "        const docLink = document.createElement('div');\n",
              "        docLink.innerHTML = docLinkHtml;\n",
              "        element.appendChild(docLink);\n",
              "      }\n",
              "    </script>\n",
              "  </div>\n",
              "\n",
              "\n",
              "<div id=\"df-0ad08c39-5e49-45b4-9b94-e5574010a8b0\">\n",
              "  <button class=\"colab-df-quickchart\" onclick=\"quickchart('df-0ad08c39-5e49-45b4-9b94-e5574010a8b0')\"\n",
              "            title=\"Suggest charts\"\n",
              "            style=\"display:none;\">\n",
              "\n",
              "<svg xmlns=\"http://www.w3.org/2000/svg\" height=\"24px\"viewBox=\"0 0 24 24\"\n",
              "     width=\"24px\">\n",
              "    <g>\n",
              "        <path d=\"M19 3H5c-1.1 0-2 .9-2 2v14c0 1.1.9 2 2 2h14c1.1 0 2-.9 2-2V5c0-1.1-.9-2-2-2zM9 17H7v-7h2v7zm4 0h-2V7h2v10zm4 0h-2v-4h2v4z\"/>\n",
              "    </g>\n",
              "</svg>\n",
              "  </button>\n",
              "\n",
              "<style>\n",
              "  .colab-df-quickchart {\n",
              "      --bg-color: #E8F0FE;\n",
              "      --fill-color: #1967D2;\n",
              "      --hover-bg-color: #E2EBFA;\n",
              "      --hover-fill-color: #174EA6;\n",
              "      --disabled-fill-color: #AAA;\n",
              "      --disabled-bg-color: #DDD;\n",
              "  }\n",
              "\n",
              "  [theme=dark] .colab-df-quickchart {\n",
              "      --bg-color: #3B4455;\n",
              "      --fill-color: #D2E3FC;\n",
              "      --hover-bg-color: #434B5C;\n",
              "      --hover-fill-color: #FFFFFF;\n",
              "      --disabled-bg-color: #3B4455;\n",
              "      --disabled-fill-color: #666;\n",
              "  }\n",
              "\n",
              "  .colab-df-quickchart {\n",
              "    background-color: var(--bg-color);\n",
              "    border: none;\n",
              "    border-radius: 50%;\n",
              "    cursor: pointer;\n",
              "    display: none;\n",
              "    fill: var(--fill-color);\n",
              "    height: 32px;\n",
              "    padding: 0;\n",
              "    width: 32px;\n",
              "  }\n",
              "\n",
              "  .colab-df-quickchart:hover {\n",
              "    background-color: var(--hover-bg-color);\n",
              "    box-shadow: 0 1px 2px rgba(60, 64, 67, 0.3), 0 1px 3px 1px rgba(60, 64, 67, 0.15);\n",
              "    fill: var(--button-hover-fill-color);\n",
              "  }\n",
              "\n",
              "  .colab-df-quickchart-complete:disabled,\n",
              "  .colab-df-quickchart-complete:disabled:hover {\n",
              "    background-color: var(--disabled-bg-color);\n",
              "    fill: var(--disabled-fill-color);\n",
              "    box-shadow: none;\n",
              "  }\n",
              "\n",
              "  .colab-df-spinner {\n",
              "    border: 2px solid var(--fill-color);\n",
              "    border-color: transparent;\n",
              "    border-bottom-color: var(--fill-color);\n",
              "    animation:\n",
              "      spin 1s steps(1) infinite;\n",
              "  }\n",
              "\n",
              "  @keyframes spin {\n",
              "    0% {\n",
              "      border-color: transparent;\n",
              "      border-bottom-color: var(--fill-color);\n",
              "      border-left-color: var(--fill-color);\n",
              "    }\n",
              "    20% {\n",
              "      border-color: transparent;\n",
              "      border-left-color: var(--fill-color);\n",
              "      border-top-color: var(--fill-color);\n",
              "    }\n",
              "    30% {\n",
              "      border-color: transparent;\n",
              "      border-left-color: var(--fill-color);\n",
              "      border-top-color: var(--fill-color);\n",
              "      border-right-color: var(--fill-color);\n",
              "    }\n",
              "    40% {\n",
              "      border-color: transparent;\n",
              "      border-right-color: var(--fill-color);\n",
              "      border-top-color: var(--fill-color);\n",
              "    }\n",
              "    60% {\n",
              "      border-color: transparent;\n",
              "      border-right-color: var(--fill-color);\n",
              "    }\n",
              "    80% {\n",
              "      border-color: transparent;\n",
              "      border-right-color: var(--fill-color);\n",
              "      border-bottom-color: var(--fill-color);\n",
              "    }\n",
              "    90% {\n",
              "      border-color: transparent;\n",
              "      border-bottom-color: var(--fill-color);\n",
              "    }\n",
              "  }\n",
              "</style>\n",
              "\n",
              "  <script>\n",
              "    async function quickchart(key) {\n",
              "      const quickchartButtonEl =\n",
              "        document.querySelector('#' + key + ' button');\n",
              "      quickchartButtonEl.disabled = true;  // To prevent multiple clicks.\n",
              "      quickchartButtonEl.classList.add('colab-df-spinner');\n",
              "      try {\n",
              "        const charts = await google.colab.kernel.invokeFunction(\n",
              "            'suggestCharts', [key], {});\n",
              "      } catch (error) {\n",
              "        console.error('Error during call to suggestCharts:', error);\n",
              "      }\n",
              "      quickchartButtonEl.classList.remove('colab-df-spinner');\n",
              "      quickchartButtonEl.classList.add('colab-df-quickchart-complete');\n",
              "    }\n",
              "    (() => {\n",
              "      let quickchartButtonEl =\n",
              "        document.querySelector('#df-0ad08c39-5e49-45b4-9b94-e5574010a8b0 button');\n",
              "      quickchartButtonEl.style.display =\n",
              "        google.colab.kernel.accessAllowed ? 'block' : 'none';\n",
              "    })();\n",
              "  </script>\n",
              "</div>\n",
              "\n",
              "    </div>\n",
              "  </div>\n"
            ],
            "application/vnd.google.colaboratory.intrinsic+json": {
              "type": "dataframe",
              "repr_error": "0"
            }
          },
          "metadata": {},
          "execution_count": 230
        }
      ]
    },
    {
      "cell_type": "markdown",
      "source": [
        "# Dataset Rows & Columns count"
      ],
      "metadata": {
        "id": "PXGO0irVZWwJ"
      }
    },
    {
      "cell_type": "code",
      "source": [
        "# Row And Columns\n",
        "df.shape"
      ],
      "metadata": {
        "id": "lCl1Tf3CZTHn",
        "colab": {
          "base_uri": "https://localhost:8080/"
        },
        "outputId": "ecc1b550-8c10-4584-8038-c5d5ac5b209a"
      },
      "execution_count": 231,
      "outputs": [
        {
          "output_type": "execute_result",
          "data": {
            "text/plain": [
              "(830, 7)"
            ]
          },
          "metadata": {},
          "execution_count": 231
        }
      ]
    },
    {
      "cell_type": "markdown",
      "source": [
        "# Dataset Information"
      ],
      "metadata": {
        "id": "zMmVwuTGZhiP"
      }
    },
    {
      "cell_type": "code",
      "source": [
        " #Dataset Info"
      ],
      "metadata": {
        "id": "37cUI5oXZl2K"
      },
      "execution_count": 117,
      "outputs": []
    },
    {
      "cell_type": "code",
      "source": [
        "df.info()"
      ],
      "metadata": {
        "id": "JmHUZ4t6ZuPv",
        "colab": {
          "base_uri": "https://localhost:8080/"
        },
        "outputId": "28f51b35-2597-4117-b84b-d6921d808fd3"
      },
      "execution_count": 232,
      "outputs": [
        {
          "output_type": "stream",
          "name": "stdout",
          "text": [
            "<class 'pandas.core.frame.DataFrame'>\n",
            "RangeIndex: 830 entries, 0 to 829\n",
            "Data columns (total 7 columns):\n",
            " #   Column        Non-Null Count  Dtype  \n",
            "---  ------        --------------  -----  \n",
            " 0   index         830 non-null    int64  \n",
            " 1   date          830 non-null    object \n",
            " 2   duration      830 non-null    float64\n",
            " 3   item          830 non-null    object \n",
            " 4   month         830 non-null    object \n",
            " 5   network       830 non-null    object \n",
            " 6   network_type  830 non-null    object \n",
            "dtypes: float64(1), int64(1), object(5)\n",
            "memory usage: 45.5+ KB\n"
          ]
        }
      ]
    },
    {
      "cell_type": "markdown",
      "source": [
        "# Duplicate Values"
      ],
      "metadata": {
        "id": "5dD39FE5ZupV"
      }
    },
    {
      "cell_type": "code",
      "source": [
        "# Dataset Duplicate Value Count"
      ],
      "metadata": {
        "id": "4Pxi9TU8ZzYm"
      },
      "execution_count": 118,
      "outputs": []
    },
    {
      "cell_type": "code",
      "source": [
        "df.duplicated().sum()"
      ],
      "metadata": {
        "id": "_9gg4jOAZ1yp",
        "colab": {
          "base_uri": "https://localhost:8080/"
        },
        "outputId": "1c9621fd-3d05-41bf-d664-89f4b201ab04"
      },
      "execution_count": 236,
      "outputs": [
        {
          "output_type": "execute_result",
          "data": {
            "text/plain": [
              "0"
            ]
          },
          "metadata": {},
          "execution_count": 236
        }
      ]
    },
    {
      "cell_type": "code",
      "source": [
        "len(df[df.duplicated()])"
      ],
      "metadata": {
        "id": "CMjR1T_3xIsg",
        "outputId": "b08e5267-aed0-4959-d210-cd9d9bf97262",
        "colab": {
          "base_uri": "https://localhost:8080/"
        }
      },
      "execution_count": 238,
      "outputs": [
        {
          "output_type": "execute_result",
          "data": {
            "text/plain": [
              "0"
            ]
          },
          "metadata": {},
          "execution_count": 238
        }
      ]
    },
    {
      "cell_type": "markdown",
      "source": [
        "# Missing Values/Null Values"
      ],
      "metadata": {
        "id": "-pw9lOFhZ2KR"
      }
    },
    {
      "cell_type": "code",
      "source": [
        "# Missing Values/Null Values Count\n",
        "df.isnull().sum()"
      ],
      "metadata": {
        "id": "TrizUdxdZ5wA",
        "colab": {
          "base_uri": "https://localhost:8080/"
        },
        "outputId": "981b09f7-2659-4d85-ea48-ed1f0794daa7"
      },
      "execution_count": 239,
      "outputs": [
        {
          "output_type": "execute_result",
          "data": {
            "text/plain": [
              "index           0\n",
              "date            0\n",
              "duration        0\n",
              "item            0\n",
              "month           0\n",
              "network         0\n",
              "network_type    0\n",
              "dtype: int64"
            ]
          },
          "metadata": {},
          "execution_count": 239
        }
      ]
    },
    {
      "cell_type": "code",
      "source": [
        "# Visualizing the missing values\n",
        "plt.figure(figsize=(8, 4))\n",
        "sns.heatmap(df.isnull(), cmap='viridis', cbar=False, yticklabels=False)\n",
        "plt.title('Missing Values Heatmap')\n",
        "plt.show()"
      ],
      "metadata": {
        "id": "IdUAVT8YZ9hd",
        "colab": {
          "base_uri": "https://localhost:8080/",
          "height": 391
        },
        "outputId": "f67c06e9-5d44-4f58-e461-e5c88845861c"
      },
      "execution_count": 241,
      "outputs": [
        {
          "output_type": "display_data",
          "data": {
            "text/plain": [
              "<Figure size 800x400 with 1 Axes>"
            ],
            "image/png": "[encoded data removed]"
          },
          "metadata": {}
        }
      ]
    },
    {
      "cell_type": "markdown",
      "source": [
        "# What did you know about your dataset?"
      ],
      "metadata": {
        "id": "fEhHTlQ7aAMt"
      }
    },
    {
      "cell_type": "markdown",
      "source": [
        "* The dataset given is a dataset from Telecommunication industry, and we have to analysis the churn of customers and the insights behind it.\n",
        "\n",
        "* Churn prediction is analytical studies on the possibility of a customer abandoning a product or service. The goal is to understand and take steps to change it before the costumer gives up the product or service.\n",
        "\n",
        "* The above dataset has 3333 rows and 20 columns. There are no mising values and duplicate values in the dataset."
      ],
      "metadata": {
        "id": "mbX8d9HayxOn"
      }
    },
    {
      "cell_type": "code",
      "source": [],
      "metadata": {
        "id": "HgJBSJ8VaE-C"
      },
      "execution_count": 120,
      "outputs": []
    },
    {
      "cell_type": "markdown",
      "source": [
        "# **2. Understanding Your Variables**"
      ],
      "metadata": {
        "id": "Gze31NrLaFs5"
      }
    },
    {
      "cell_type": "code",
      "source": [
        "# Dataset Columns"
      ],
      "metadata": {
        "id": "aD4PAVIZaKZb"
      },
      "execution_count": 121,
      "outputs": []
    },
    {
      "cell_type": "code",
      "source": [
        "# Dataset Describe"
      ],
      "metadata": {
        "id": "KIbGiX7haSGP"
      },
      "execution_count": 122,
      "outputs": []
    },
    {
      "cell_type": "markdown",
      "source": [
        "# Variables Description"
      ],
      "metadata": {
        "id": "lkb1b4P7aUgU"
      }
    },
    {
      "cell_type": "code",
      "source": [],
      "metadata": {
        "id": "dXP8XBF4aYob"
      },
      "execution_count": 122,
      "outputs": []
    },
    {
      "cell_type": "markdown",
      "source": [
        "# Check Unique Values for each variable."
      ],
      "metadata": {
        "id": "mgKUqaL7abXg"
      }
    },
    {
      "cell_type": "code",
      "source": [
        "# Check Unique Values for each variable."
      ],
      "metadata": {
        "id": "uYEaFaAyadF9"
      },
      "execution_count": 123,
      "outputs": []
    },
    {
      "cell_type": "markdown",
      "source": [
        "# **3. Data Wrangling**"
      ],
      "metadata": {
        "id": "CxCoSkYzagMS"
      }
    },
    {
      "cell_type": "markdown",
      "source": [
        "# Data Wrangling Code"
      ],
      "metadata": {
        "id": "lqwjIyTFanWa"
      }
    },
    {
      "cell_type": "code",
      "source": [
        "# Write your code to make your dataset analysis ready."
      ],
      "metadata": {
        "id": "g2VXHZh4aqZW"
      },
      "execution_count": 124,
      "outputs": []
    },
    {
      "cell_type": "markdown",
      "source": [
        "# What all manipulations have you done and insights you found?"
      ],
      "metadata": {
        "id": "d8ppv_lxayiB"
      }
    },
    {
      "cell_type": "markdown",
      "source": [
        "Answer Here."
      ],
      "metadata": {
        "id": "iPb97vwla5DC"
      }
    },
    {
      "cell_type": "markdown",
      "source": [
        "# **4. Data Vizualization, Storytelling & Experimenting with charts : Understand the relationships between variables**"
      ],
      "metadata": {
        "id": "FBOm6pD3a78m"
      }
    },
    {
      "cell_type": "code",
      "source": [],
      "metadata": {
        "id": "tTSDRPsHbA5i"
      },
      "execution_count": 124,
      "outputs": []
    },
    {
      "cell_type": "markdown",
      "source": [
        "# Chart - 1"
      ],
      "metadata": {
        "id": "yP6NZRgqbJqz"
      }
    },
    {
      "cell_type": "code",
      "source": [
        "# Chart - 1 visualization code"
      ],
      "metadata": {
        "id": "JQXlhuzXbL60"
      },
      "execution_count": 125,
      "outputs": []
    },
    {
      "cell_type": "markdown",
      "source": [
        "1. Why did you pick the specific chart?"
      ],
      "metadata": {
        "id": "G0pyDjJRbRhZ"
      }
    },
    {
      "cell_type": "markdown",
      "source": [
        "Answer Here."
      ],
      "metadata": {
        "id": "TXRx0l5IbY-H"
      }
    },
    {
      "cell_type": "markdown",
      "source": [
        "2. What is/are the insight(s) found from the chart?"
      ],
      "metadata": {
        "id": "aGKuD1GkbcZf"
      }
    },
    {
      "cell_type": "markdown",
      "source": [
        "Answer Here"
      ],
      "metadata": {
        "id": "FnRmskcibnyn"
      }
    },
    {
      "cell_type": "markdown",
      "source": [
        "3. Will the gained insights help creating a positive business impact?\n",
        "\n",
        "Are there any insights that lead to negative growth? Justify with specific reason."
      ],
      "metadata": {
        "id": "__CrqUYRbugi"
      }
    },
    {
      "cell_type": "markdown",
      "source": [
        "Answer Here"
      ],
      "metadata": {
        "id": "5fTrnBMJbwRp"
      }
    },
    {
      "cell_type": "markdown",
      "source": [
        "# **Chart - 14 - Correlation Heatmap**"
      ],
      "metadata": {
        "id": "f2HMfbgfcGc6"
      }
    },
    {
      "cell_type": "code",
      "source": [
        "# Correlation Heatmap visualization code"
      ],
      "metadata": {
        "id": "ABwecdLrb1N8"
      },
      "execution_count": 126,
      "outputs": []
    },
    {
      "cell_type": "markdown",
      "source": [
        "1. Why did you pick the specific chart?"
      ],
      "metadata": {
        "id": "cP42yZW8cIdG"
      }
    },
    {
      "cell_type": "markdown",
      "source": [
        "2. What is/are the insight(s) found from the chart?"
      ],
      "metadata": {
        "id": "yUy5ZaLXcREI"
      }
    },
    {
      "cell_type": "markdown",
      "source": [
        "# **Chart - 15 - Pair Plot**"
      ],
      "metadata": {
        "id": "mD_uBVCycWLj"
      }
    },
    {
      "cell_type": "code",
      "source": [
        "# Pair Plot visualization code"
      ],
      "metadata": {
        "id": "3E-0AUqQcRqf"
      },
      "execution_count": 127,
      "outputs": []
    },
    {
      "cell_type": "markdown",
      "source": [
        "1. Why did you pick the specific chart?"
      ],
      "metadata": {
        "id": "7kL_k7Y8ccAc"
      }
    },
    {
      "cell_type": "markdown",
      "source": [
        "2. What is/are the insight(s) found from the chart?"
      ],
      "metadata": {
        "id": "ft8raUf8cej7"
      }
    },
    {
      "cell_type": "markdown",
      "source": [
        "# **5. Solution to Business Objective**"
      ],
      "metadata": {
        "id": "n02GTIfQchkp"
      }
    },
    {
      "cell_type": "markdown",
      "source": [
        "# What do you suggest the client to achieve Business Objective ?\n",
        "\n",
        "Explain Briefly."
      ],
      "metadata": {
        "id": "9noMerD-clbC"
      }
    },
    {
      "cell_type": "markdown",
      "source": [
        "# **Conclusion**"
      ],
      "metadata": {
        "id": "GZjBRewwculG"
      }
    },
    {
      "cell_type": "code",
      "source": [],
      "metadata": {
        "id": "zVafVEXscyJf"
      },
      "execution_count": 127,
      "outputs": []
    },
    {
      "cell_type": "markdown",
      "source": [
        "Write the conclusion here."
      ],
      "metadata": {
        "id": "MCEfis-Kc2SH"
      }
    },
    {
      "cell_type": "code",
      "source": [],
      "metadata": {
        "id": "TegxTWClc3KC"
      },
      "execution_count": 127,
      "outputs": []
    },
    {
      "cell_type": "code",
      "source": [
        "import pandas as pd"
      ],
      "metadata": {
        "id": "p7Cq_7C0gBII"
      },
      "execution_count": 128,
      "outputs": []
    },
    {
      "cell_type": "code",
      "source": [
        "df1 = pd.read_csv('drive/MyDrive/Dataset/Copy of Airbnb NYC 2019.csv')"
      ],
      "metadata": {
        "id": "xmfgpiwNhepy"
      },
      "execution_count": 137,
      "outputs": []
    },
    {
      "cell_type": "code",
      "source": [
        "df1.sample(5)"
      ],
      "metadata": {
        "colab": {
          "base_uri": "https://localhost:8080/",
          "height": 538
        },
        "id": "g_e-uEH1h9sH",
        "outputId": "706a18e3-77d2-4c81-ae88-8aa5f38f7e61"
      },
      "execution_count": 138,
      "outputs": [
        {
          "output_type": "execute_result",
          "data": {
            "text/plain": [
              "             id                                               name    host_id  \\\n",
              "2167    1001147                   Big Room with Bath in Bushwick!     3363720   \n",
              "881      318187                 Huge, Sunny, Open Loft in Brooklyn    1633100   \n",
              "2006     886833                     Private Suite, Free Metrocard*    4701443   \n",
              "20917  16560739          Spacious Master Bedroom 20 mins. from NYC  108786369   \n",
              "40257  31220749  Private bedroom near M train, 22 min to Manhat...   47931146   \n",
              "\n",
              "       host_name neighbourhood_group       neighbourhood  latitude  longitude  \\\n",
              "2167        Kate            Brooklyn            Bushwick  40.68923  -73.91946   \n",
              "881          Ana            Brooklyn            Bushwick  40.70462  -73.92280   \n",
              "2006   Christina              Queens            Flushing  40.75250  -73.81126   \n",
              "20917      Kwana            Brooklyn  Bedford-Stuyvesant  40.69330  -73.95410   \n",
              "40257     Rachel              Queens           Ridgewood  40.70393  -73.90851   \n",
              "\n",
              "             room_type  price  minimum_nights  number_of_reviews last_review  \\\n",
              "2167      Private room     50               3                 92  2019-06-19   \n",
              "881    Entire home/apt    120               2                 42  2019-06-20   \n",
              "2006   Entire home/apt     81               1                313  2019-07-05   \n",
              "20917  Entire home/apt    130               3                  8  2017-05-29   \n",
              "40257     Private room     39               6                  2  2019-04-03   \n",
              "\n",
              "       reviews_per_month  calculated_host_listings_count  availability_365  \n",
              "2167                1.22                               3               171  \n",
              "881                 0.48                               1               238  \n",
              "2006                4.09                               2               263  \n",
              "20917               0.27                               1                 0  \n",
              "40257               0.55                               1                 0  "
            ],
            "text/html": [
              "\n",
              "  <div id=\"df-cba41378-8251-4173-bf31-596864ad61f3\" class=\"colab-df-container\">\n",
              "    <div>\n",
              "<style scoped>\n",
              "    .dataframe tbody tr th:only-of-type {\n",
              "        vertical-align: middle;\n",
              "    }\n",
              "\n",
              "    .dataframe tbody tr th {\n",
              "        vertical-align: top;\n",
              "    }\n",
              "\n",
              "    .dataframe thead th {\n",
              "        text-align: right;\n",
              "    }\n",
              "</style>\n",
              "<table border=\"1\" class=\"dataframe\">\n",
              "  <thead>\n",
              "    <tr style=\"text-align: right;\">\n",
              "      <th></th>\n",
              "      <th>id</th>\n",
              "      <th>name</th>\n",
              "      <th>host_id</th>\n",
              "      <th>host_name</th>\n",
              "      <th>neighbourhood_group</th>\n",
              "      <th>neighbourhood</th>\n",
              "      <th>latitude</th>\n",
              "      <th>longitude</th>\n",
              "      <th>room_type</th>\n",
              "      <th>price</th>\n",
              "      <th>minimum_nights</th>\n",
              "      <th>number_of_reviews</th>\n",
              "      <th>last_review</th>\n",
              "      <th>reviews_per_month</th>\n",
              "      <th>calculated_host_listings_count</th>\n",
              "      <th>availability_365</th>\n",
              "    </tr>\n",
              "  </thead>\n",
              "  <tbody>\n",
              "    <tr>\n",
              "      <th>2167</th>\n",
              "      <td>1001147</td>\n",
              "      <td>Big Room with Bath in Bushwick!</td>\n",
              "      <td>3363720</td>\n",
              "      <td>Kate</td>\n",
              "      <td>Brooklyn</td>\n",
              "      <td>Bushwick</td>\n",
              "      <td>40.68923</td>\n",
              "      <td>-73.91946</td>\n",
              "      <td>Private room</td>\n",
              "      <td>50</td>\n",
              "      <td>3</td>\n",
              "      <td>92</td>\n",
              "      <td>2019-06-19</td>\n",
              "      <td>1.22</td>\n",
              "      <td>3</td>\n",
              "      <td>171</td>\n",
              "    </tr>\n",
              "    <tr>\n",
              "      <th>881</th>\n",
              "      <td>318187</td>\n",
              "      <td>Huge, Sunny, Open Loft in Brooklyn</td>\n",
              "      <td>1633100</td>\n",
              "      <td>Ana</td>\n",
              "      <td>Brooklyn</td>\n",
              "      <td>Bushwick</td>\n",
              "      <td>40.70462</td>\n",
              "      <td>-73.92280</td>\n",
              "      <td>Entire home/apt</td>\n",
              "      <td>120</td>\n",
              "      <td>2</td>\n",
              "      <td>42</td>\n",
              "      <td>2019-06-20</td>\n",
              "      <td>0.48</td>\n",
              "      <td>1</td>\n",
              "      <td>238</td>\n",
              "    </tr>\n",
              "    <tr>\n",
              "      <th>2006</th>\n",
              "      <td>886833</td>\n",
              "      <td>Private Suite, Free Metrocard*</td>\n",
              "      <td>4701443</td>\n",
              "      <td>Christina</td>\n",
              "      <td>Queens</td>\n",
              "      <td>Flushing</td>\n",
              "      <td>40.75250</td>\n",
              "      <td>-73.81126</td>\n",
              "      <td>Entire home/apt</td>\n",
              "      <td>81</td>\n",
              "      <td>1</td>\n",
              "      <td>313</td>\n",
              "      <td>2019-07-05</td>\n",
              "      <td>4.09</td>\n",
              "      <td>2</td>\n",
              "      <td>263</td>\n",
              "    </tr>\n",
              "    <tr>\n",
              "      <th>20917</th>\n",
              "      <td>16560739</td>\n",
              "      <td>Spacious Master Bedroom 20 mins. from NYC</td>\n",
              "      <td>108786369</td>\n",
              "      <td>Kwana</td>\n",
              "      <td>Brooklyn</td>\n",
              "      <td>Bedford-Stuyvesant</td>\n",
              "      <td>40.69330</td>\n",
              "      <td>-73.95410</td>\n",
              "      <td>Entire home/apt</td>\n",
              "      <td>130</td>\n",
              "      <td>3</td>\n",
              "      <td>8</td>\n",
              "      <td>2017-05-29</td>\n",
              "      <td>0.27</td>\n",
              "      <td>1</td>\n",
              "      <td>0</td>\n",
              "    </tr>\n",
              "    <tr>\n",
              "      <th>40257</th>\n",
              "      <td>31220749</td>\n",
              "      <td>Private bedroom near M train, 22 min to Manhat...</td>\n",
              "      <td>47931146</td>\n",
              "      <td>Rachel</td>\n",
              "      <td>Queens</td>\n",
              "      <td>Ridgewood</td>\n",
              "      <td>40.70393</td>\n",
              "      <td>-73.90851</td>\n",
              "      <td>Private room</td>\n",
              "      <td>39</td>\n",
              "      <td>6</td>\n",
              "      <td>2</td>\n",
              "      <td>2019-04-03</td>\n",
              "      <td>0.55</td>\n",
              "      <td>1</td>\n",
              "      <td>0</td>\n",
              "    </tr>\n",
              "  </tbody>\n",
              "</table>\n",
              "</div>\n",
              "    <div class=\"colab-df-buttons\">\n",
              "\n",
              "  <div class=\"colab-df-container\">\n",
              "    <button class=\"colab-df-convert\" onclick=\"convertToInteractive('df-cba41378-8251-4173-bf31-596864ad61f3')\"\n",
              "            title=\"Convert this dataframe to an interactive table.\"\n",
              "            style=\"display:none;\">\n",
              "\n",
              "  <svg xmlns=\"http://www.w3.org/2000/svg\" height=\"24px\" viewBox=\"0 -960 960 960\">\n",
              "    <path d=\"M120-120v-720h720v720H120Zm60-500h600v-160H180v160Zm220 220h160v-160H400v160Zm0 220h160v-160H400v160ZM180-400h160v-160H180v160Zm440 0h160v-160H620v160ZM180-180h160v-160H180v160Zm440 0h160v-160H620v160Z\"/>\n",
              "  </svg>\n",
              "    </button>\n",
              "\n",
              "  <style>\n",
              "    .colab-df-container {\n",
              "      display:flex;\n",
              "      gap: 12px;\n",
              "    }\n",
              "\n",
              "    .colab-df-convert {\n",
              "      background-color: #E8F0FE;\n",
              "      border: none;\n",
              "      border-radius: 50%;\n",
              "      cursor: pointer;\n",
              "      display: none;\n",
              "      fill: #1967D2;\n",
              "      height: 32px;\n",
              "      padding: 0 0 0 0;\n",
              "      width: 32px;\n",
              "    }\n",
              "\n",
              "    .colab-df-convert:hover {\n",
              "      background-color: #E2EBFA;\n",
              "      box-shadow: 0px 1px 2px rgba(60, 64, 67, 0.3), 0px 1px 3px 1px rgba(60, 64, 67, 0.15);\n",
              "      fill: #174EA6;\n",
              "    }\n",
              "\n",
              "    .colab-df-buttons div {\n",
              "      margin-bottom: 4px;\n",
              "    }\n",
              "\n",
              "    [theme=dark] .colab-df-convert {\n",
              "      background-color: #3B4455;\n",
              "      fill: #D2E3FC;\n",
              "    }\n",
              "\n",
              "    [theme=dark] .colab-df-convert:hover {\n",
              "      background-color: #434B5C;\n",
              "      box-shadow: 0px 1px 3px 1px rgba(0, 0, 0, 0.15);\n",
              "      filter: drop-shadow(0px 1px 2px rgba(0, 0, 0, 0.3));\n",
              "      fill: #FFFFFF;\n",
              "    }\n",
              "  </style>\n",
              "\n",
              "    <script>\n",
              "      const buttonEl =\n",
              "        document.querySelector('#df-cba41378-8251-4173-bf31-596864ad61f3 button.colab-df-convert');\n",
              "      buttonEl.style.display =\n",
              "        google.colab.kernel.accessAllowed ? 'block' : 'none';\n",
              "\n",
              "      async function convertToInteractive(key) {\n",
              "        const element = document.querySelector('#df-cba41378-8251-4173-bf31-596864ad61f3');\n",
              "        const dataTable =\n",
              "          await google.colab.kernel.invokeFunction('convertToInteractive',\n",
              "                                                    [key], {});\n",
              "        if (!dataTable) return;\n",
              "\n",
              "        const docLinkHtml = 'Like what you see? Visit the ' +\n",
              "          '<a target=\"_blank\" href=https://colab.research.google.com/notebooks/data_table.ipynb>data table notebook</a>'\n",
              "          + ' to learn more about interactive tables.';\n",
              "        element.innerHTML = '';\n",
              "        dataTable['output_type'] = 'display_data';\n",
              "        await google.colab.output.renderOutput(dataTable, element);\n",
              "        const docLink = document.createElement('div');\n",
              "        docLink.innerHTML = docLinkHtml;\n",
              "        element.appendChild(docLink);\n",
              "      }\n",
              "    </script>\n",
              "  </div>\n",
              "\n",
              "\n",
              "<div id=\"df-affe5dd6-1076-4fbd-b350-7ac8e5758028\">\n",
              "  <button class=\"colab-df-quickchart\" onclick=\"quickchart('df-affe5dd6-1076-4fbd-b350-7ac8e5758028')\"\n",
              "            title=\"Suggest charts\"\n",
              "            style=\"display:none;\">\n",
              "\n",
              "<svg xmlns=\"http://www.w3.org/2000/svg\" height=\"24px\"viewBox=\"0 0 24 24\"\n",
              "     width=\"24px\">\n",
              "    <g>\n",
              "        <path d=\"M19 3H5c-1.1 0-2 .9-2 2v14c0 1.1.9 2 2 2h14c1.1 0 2-.9 2-2V5c0-1.1-.9-2-2-2zM9 17H7v-7h2v7zm4 0h-2V7h2v10zm4 0h-2v-4h2v4z\"/>\n",
              "    </g>\n",
              "</svg>\n",
              "  </button>\n",
              "\n",
              "<style>\n",
              "  .colab-df-quickchart {\n",
              "      --bg-color: #E8F0FE;\n",
              "      --fill-color: #1967D2;\n",
              "      --hover-bg-color: #E2EBFA;\n",
              "      --hover-fill-color: #174EA6;\n",
              "      --disabled-fill-color: #AAA;\n",
              "      --disabled-bg-color: #DDD;\n",
              "  }\n",
              "\n",
              "  [theme=dark] .colab-df-quickchart {\n",
              "      --bg-color: #3B4455;\n",
              "      --fill-color: #D2E3FC;\n",
              "      --hover-bg-color: #434B5C;\n",
              "      --hover-fill-color: #FFFFFF;\n",
              "      --disabled-bg-color: #3B4455;\n",
              "      --disabled-fill-color: #666;\n",
              "  }\n",
              "\n",
              "  .colab-df-quickchart {\n",
              "    background-color: var(--bg-color);\n",
              "    border: none;\n",
              "    border-radius: 50%;\n",
              "    cursor: pointer;\n",
              "    display: none;\n",
              "    fill: var(--fill-color);\n",
              "    height: 32px;\n",
              "    padding: 0;\n",
              "    width: 32px;\n",
              "  }\n",
              "\n",
              "  .colab-df-quickchart:hover {\n",
              "    background-color: var(--hover-bg-color);\n",
              "    box-shadow: 0 1px 2px rgba(60, 64, 67, 0.3), 0 1px 3px 1px rgba(60, 64, 67, 0.15);\n",
              "    fill: var(--button-hover-fill-color);\n",
              "  }\n",
              "\n",
              "  .colab-df-quickchart-complete:disabled,\n",
              "  .colab-df-quickchart-complete:disabled:hover {\n",
              "    background-color: var(--disabled-bg-color);\n",
              "    fill: var(--disabled-fill-color);\n",
              "    box-shadow: none;\n",
              "  }\n",
              "\n",
              "  .colab-df-spinner {\n",
              "    border: 2px solid var(--fill-color);\n",
              "    border-color: transparent;\n",
              "    border-bottom-color: var(--fill-color);\n",
              "    animation:\n",
              "      spin 1s steps(1) infinite;\n",
              "  }\n",
              "\n",
              "  @keyframes spin {\n",
              "    0% {\n",
              "      border-color: transparent;\n",
              "      border-bottom-color: var(--fill-color);\n",
              "      border-left-color: var(--fill-color);\n",
              "    }\n",
              "    20% {\n",
              "      border-color: transparent;\n",
              "      border-left-color: var(--fill-color);\n",
              "      border-top-color: var(--fill-color);\n",
              "    }\n",
              "    30% {\n",
              "      border-color: transparent;\n",
              "      border-left-color: var(--fill-color);\n",
              "      border-top-color: var(--fill-color);\n",
              "      border-right-color: var(--fill-color);\n",
              "    }\n",
              "    40% {\n",
              "      border-color: transparent;\n",
              "      border-right-color: var(--fill-color);\n",
              "      border-top-color: var(--fill-color);\n",
              "    }\n",
              "    60% {\n",
              "      border-color: transparent;\n",
              "      border-right-color: var(--fill-color);\n",
              "    }\n",
              "    80% {\n",
              "      border-color: transparent;\n",
              "      border-right-color: var(--fill-color);\n",
              "      border-bottom-color: var(--fill-color);\n",
              "    }\n",
              "    90% {\n",
              "      border-color: transparent;\n",
              "      border-bottom-color: var(--fill-color);\n",
              "    }\n",
              "  }\n",
              "</style>\n",
              "\n",
              "  <script>\n",
              "    async function quickchart(key) {\n",
              "      const quickchartButtonEl =\n",
              "        document.querySelector('#' + key + ' button');\n",
              "      quickchartButtonEl.disabled = true;  // To prevent multiple clicks.\n",
              "      quickchartButtonEl.classList.add('colab-df-spinner');\n",
              "      try {\n",
              "        const charts = await google.colab.kernel.invokeFunction(\n",
              "            'suggestCharts', [key], {});\n",
              "      } catch (error) {\n",
              "        console.error('Error during call to suggestCharts:', error);\n",
              "      }\n",
              "      quickchartButtonEl.classList.remove('colab-df-spinner');\n",
              "      quickchartButtonEl.classList.add('colab-df-quickchart-complete');\n",
              "    }\n",
              "    (() => {\n",
              "      let quickchartButtonEl =\n",
              "        document.querySelector('#df-affe5dd6-1076-4fbd-b350-7ac8e5758028 button');\n",
              "      quickchartButtonEl.style.display =\n",
              "        google.colab.kernel.accessAllowed ? 'block' : 'none';\n",
              "    })();\n",
              "  </script>\n",
              "</div>\n",
              "\n",
              "    </div>\n",
              "  </div>\n"
            ],
            "application/vnd.google.colaboratory.intrinsic+json": {
              "type": "dataframe",
              "repr_error": "0"
            }
          },
          "metadata": {},
          "execution_count": 138
        }
      ]
    },
    {
      "cell_type": "code",
      "source": [
        "df1.duplicated().sum()"
      ],
      "metadata": {
        "colab": {
          "base_uri": "https://localhost:8080/"
        },
        "id": "LLKV4Zt-q6iH",
        "outputId": "ec0e5bb2-deb6-4994-deb0-281a5e92cd9c"
      },
      "execution_count": 139,
      "outputs": [
        {
          "output_type": "execute_result",
          "data": {
            "text/plain": [
              "0"
            ]
          },
          "metadata": {},
          "execution_count": 139
        }
      ]
    },
    {
      "cell_type": "code",
      "source": [
        "df1.shape"
      ],
      "metadata": {
        "colab": {
          "base_uri": "https://localhost:8080/"
        },
        "id": "9RDHn5iHh-X6",
        "outputId": "2405613e-115f-43f0-89a5-5cc42c2672a5"
      },
      "execution_count": 140,
      "outputs": [
        {
          "output_type": "execute_result",
          "data": {
            "text/plain": [
              "(48895, 16)"
            ]
          },
          "metadata": {},
          "execution_count": 140
        }
      ]
    },
    {
      "cell_type": "code",
      "source": [
        "df1.info()"
      ],
      "metadata": {
        "colab": {
          "base_uri": "https://localhost:8080/"
        },
        "id": "uEjxm4glmw62",
        "outputId": "5e261b1c-138c-4b83-8326-62132735031d"
      },
      "execution_count": 141,
      "outputs": [
        {
          "output_type": "stream",
          "name": "stdout",
          "text": [
            "<class 'pandas.core.frame.DataFrame'>\n",
            "RangeIndex: 48895 entries, 0 to 48894\n",
            "Data columns (total 16 columns):\n",
            " #   Column                          Non-Null Count  Dtype  \n",
            "---  ------                          --------------  -----  \n",
            " 0   id                              48895 non-null  int64  \n",
            " 1   name                            48879 non-null  object \n",
            " 2   host_id                         48895 non-null  int64  \n",
            " 3   host_name                       48874 non-null  object \n",
            " 4   neighbourhood_group             48895 non-null  object \n",
            " 5   neighbourhood                   48895 non-null  object \n",
            " 6   latitude                        48895 non-null  float64\n",
            " 7   longitude                       48895 non-null  float64\n",
            " 8   room_type                       48895 non-null  object \n",
            " 9   price                           48895 non-null  int64  \n",
            " 10  minimum_nights                  48895 non-null  int64  \n",
            " 11  number_of_reviews               48895 non-null  int64  \n",
            " 12  last_review                     38843 non-null  object \n",
            " 13  reviews_per_month               38843 non-null  float64\n",
            " 14  calculated_host_listings_count  48895 non-null  int64  \n",
            " 15  availability_365                48895 non-null  int64  \n",
            "dtypes: float64(3), int64(7), object(6)\n",
            "memory usage: 6.0+ MB\n"
          ]
        }
      ]
    },
    {
      "cell_type": "code",
      "source": [
        "df1.describe()"
      ],
      "metadata": {
        "colab": {
          "base_uri": "https://localhost:8080/",
          "height": 300
        },
        "id": "JzrENUQYnLpn",
        "outputId": "35c7c542-72c7-4494-e85f-252cb179c00e"
      },
      "execution_count": 142,
      "outputs": [
        {
          "output_type": "execute_result",
          "data": {
            "text/plain": [
              "                 id       host_id      latitude     longitude         price  \\\n",
              "count  4.889500e+04  4.889500e+04  48895.000000  48895.000000  48895.000000   \n",
              "mean   1.901714e+07  6.762001e+07     40.728949    -73.952170    152.720687   \n",
              "std    1.098311e+07  7.861097e+07      0.054530      0.046157    240.154170   \n",
              "min    2.539000e+03  2.438000e+03     40.499790    -74.244420      0.000000   \n",
              "25%    9.471945e+06  7.822033e+06     40.690100    -73.983070     69.000000   \n",
              "50%    1.967728e+07  3.079382e+07     40.723070    -73.955680    106.000000   \n",
              "75%    2.915218e+07  1.074344e+08     40.763115    -73.936275    175.000000   \n",
              "max    3.648724e+07  2.743213e+08     40.913060    -73.712990  10000.000000   \n",
              "\n",
              "       minimum_nights  number_of_reviews  reviews_per_month  \\\n",
              "count    48895.000000       48895.000000       38843.000000   \n",
              "mean         7.029962          23.274466           1.373221   \n",
              "std         20.510550          44.550582           1.680442   \n",
              "min          1.000000           0.000000           0.010000   \n",
              "25%          1.000000           1.000000           0.190000   \n",
              "50%          3.000000           5.000000           0.720000   \n",
              "75%          5.000000          24.000000           2.020000   \n",
              "max       1250.000000         629.000000          58.500000   \n",
              "\n",
              "       calculated_host_listings_count  availability_365  \n",
              "count                    48895.000000      48895.000000  \n",
              "mean                         7.143982        112.781327  \n",
              "std                         32.952519        131.622289  \n",
              "min                          1.000000          0.000000  \n",
              "25%                          1.000000          0.000000  \n",
              "50%                          1.000000         45.000000  \n",
              "75%                          2.000000        227.000000  \n",
              "max                        327.000000        365.000000  "
            ],
            "text/html": [
              "\n",
              "  <div id=\"df-aef6a094-8d2e-4734-afbb-e67f55dd2c95\" class=\"colab-df-container\">\n",
              "    <div>\n",
              "<style scoped>\n",
              "    .dataframe tbody tr th:only-of-type {\n",
              "        vertical-align: middle;\n",
              "    }\n",
              "\n",
              "    .dataframe tbody tr th {\n",
              "        vertical-align: top;\n",
              "    }\n",
              "\n",
              "    .dataframe thead th {\n",
              "        text-align: right;\n",
              "    }\n",
              "</style>\n",
              "<table border=\"1\" class=\"dataframe\">\n",
              "  <thead>\n",
              "    <tr style=\"text-align: right;\">\n",
              "      <th></th>\n",
              "      <th>id</th>\n",
              "      <th>host_id</th>\n",
              "      <th>latitude</th>\n",
              "      <th>longitude</th>\n",
              "      <th>price</th>\n",
              "      <th>minimum_nights</th>\n",
              "      <th>number_of_reviews</th>\n",
              "      <th>reviews_per_month</th>\n",
              "      <th>calculated_host_listings_count</th>\n",
              "      <th>availability_365</th>\n",
              "    </tr>\n",
              "  </thead>\n",
              "  <tbody>\n",
              "    <tr>\n",
              "      <th>count</th>\n",
              "      <td>4.889500e+04</td>\n",
              "      <td>4.889500e+04</td>\n",
              "      <td>48895.000000</td>\n",
              "      <td>48895.000000</td>\n",
              "      <td>48895.000000</td>\n",
              "      <td>48895.000000</td>\n",
              "      <td>48895.000000</td>\n",
              "      <td>38843.000000</td>\n",
              "      <td>48895.000000</td>\n",
              "      <td>48895.000000</td>\n",
              "    </tr>\n",
              "    <tr>\n",
              "      <th>mean</th>\n",
              "      <td>1.901714e+07</td>\n",
              "      <td>6.762001e+07</td>\n",
              "      <td>40.728949</td>\n",
              "      <td>-73.952170</td>\n",
              "      <td>152.720687</td>\n",
              "      <td>7.029962</td>\n",
              "      <td>23.274466</td>\n",
              "      <td>1.373221</td>\n",
              "      <td>7.143982</td>\n",
              "      <td>112.781327</td>\n",
              "    </tr>\n",
              "    <tr>\n",
              "      <th>std</th>\n",
              "      <td>1.098311e+07</td>\n",
              "      <td>7.861097e+07</td>\n",
              "      <td>0.054530</td>\n",
              "      <td>0.046157</td>\n",
              "      <td>240.154170</td>\n",
              "      <td>20.510550</td>\n",
              "      <td>44.550582</td>\n",
              "      <td>1.680442</td>\n",
              "      <td>32.952519</td>\n",
              "      <td>131.622289</td>\n",
              "    </tr>\n",
              "    <tr>\n",
              "      <th>min</th>\n",
              "      <td>2.539000e+03</td>\n",
              "      <td>2.438000e+03</td>\n",
              "      <td>40.499790</td>\n",
              "      <td>-74.244420</td>\n",
              "      <td>0.000000</td>\n",
              "      <td>1.000000</td>\n",
              "      <td>0.000000</td>\n",
              "      <td>0.010000</td>\n",
              "      <td>1.000000</td>\n",
              "      <td>0.000000</td>\n",
              "    </tr>\n",
              "    <tr>\n",
              "      <th>25%</th>\n",
              "      <td>9.471945e+06</td>\n",
              "      <td>7.822033e+06</td>\n",
              "      <td>40.690100</td>\n",
              "      <td>-73.983070</td>\n",
              "      <td>69.000000</td>\n",
              "      <td>1.000000</td>\n",
              "      <td>1.000000</td>\n",
              "      <td>0.190000</td>\n",
              "      <td>1.000000</td>\n",
              "      <td>0.000000</td>\n",
              "    </tr>\n",
              "    <tr>\n",
              "      <th>50%</th>\n",
              "      <td>1.967728e+07</td>\n",
              "      <td>3.079382e+07</td>\n",
              "      <td>40.723070</td>\n",
              "      <td>-73.955680</td>\n",
              "      <td>106.000000</td>\n",
              "      <td>3.000000</td>\n",
              "      <td>5.000000</td>\n",
              "      <td>0.720000</td>\n",
              "      <td>1.000000</td>\n",
              "      <td>45.000000</td>\n",
              "    </tr>\n",
              "    <tr>\n",
              "      <th>75%</th>\n",
              "      <td>2.915218e+07</td>\n",
              "      <td>1.074344e+08</td>\n",
              "      <td>40.763115</td>\n",
              "      <td>-73.936275</td>\n",
              "      <td>175.000000</td>\n",
              "      <td>5.000000</td>\n",
              "      <td>24.000000</td>\n",
              "      <td>2.020000</td>\n",
              "      <td>2.000000</td>\n",
              "      <td>227.000000</td>\n",
              "    </tr>\n",
              "    <tr>\n",
              "      <th>max</th>\n",
              "      <td>3.648724e+07</td>\n",
              "      <td>2.743213e+08</td>\n",
              "      <td>40.913060</td>\n",
              "      <td>-73.712990</td>\n",
              "      <td>10000.000000</td>\n",
              "      <td>1250.000000</td>\n",
              "      <td>629.000000</td>\n",
              "      <td>58.500000</td>\n",
              "      <td>327.000000</td>\n",
              "      <td>365.000000</td>\n",
              "    </tr>\n",
              "  </tbody>\n",
              "</table>\n",
              "</div>\n",
              "    <div class=\"colab-df-buttons\">\n",
              "\n",
              "  <div class=\"colab-df-container\">\n",
              "    <button class=\"colab-df-convert\" onclick=\"convertToInteractive('df-aef6a094-8d2e-4734-afbb-e67f55dd2c95')\"\n",
              "            title=\"Convert this dataframe to an interactive table.\"\n",
              "            style=\"display:none;\">\n",
              "\n",
              "  <svg xmlns=\"http://www.w3.org/2000/svg\" height=\"24px\" viewBox=\"0 -960 960 960\">\n",
              "    <path d=\"M120-120v-720h720v720H120Zm60-500h600v-160H180v160Zm220 220h160v-160H400v160Zm0 220h160v-160H400v160ZM180-400h160v-160H180v160Zm440 0h160v-160H620v160ZM180-180h160v-160H180v160Zm440 0h160v-160H620v160Z\"/>\n",
              "  </svg>\n",
              "    </button>\n",
              "\n",
              "  <style>\n",
              "    .colab-df-container {\n",
              "      display:flex;\n",
              "      gap: 12px;\n",
              "    }\n",
              "\n",
              "    .colab-df-convert {\n",
              "      background-color: #E8F0FE;\n",
              "      border: none;\n",
              "      border-radius: 50%;\n",
              "      cursor: pointer;\n",
              "      display: none;\n",
              "      fill: #1967D2;\n",
              "      height: 32px;\n",
              "      padding: 0 0 0 0;\n",
              "      width: 32px;\n",
              "    }\n",
              "\n",
              "    .colab-df-convert:hover {\n",
              "      background-color: #E2EBFA;\n",
              "      box-shadow: 0px 1px 2px rgba(60, 64, 67, 0.3), 0px 1px 3px 1px rgba(60, 64, 67, 0.15);\n",
              "      fill: #174EA6;\n",
              "    }\n",
              "\n",
              "    .colab-df-buttons div {\n",
              "      margin-bottom: 4px;\n",
              "    }\n",
              "\n",
              "    [theme=dark] .colab-df-convert {\n",
              "      background-color: #3B4455;\n",
              "      fill: #D2E3FC;\n",
              "    }\n",
              "\n",
              "    [theme=dark] .colab-df-convert:hover {\n",
              "      background-color: #434B5C;\n",
              "      box-shadow: 0px 1px 3px 1px rgba(0, 0, 0, 0.15);\n",
              "      filter: drop-shadow(0px 1px 2px rgba(0, 0, 0, 0.3));\n",
              "      fill: #FFFFFF;\n",
              "    }\n",
              "  </style>\n",
              "\n",
              "    <script>\n",
              "      const buttonEl =\n",
              "        document.querySelector('#df-aef6a094-8d2e-4734-afbb-e67f55dd2c95 button.colab-df-convert');\n",
              "      buttonEl.style.display =\n",
              "        google.colab.kernel.accessAllowed ? 'block' : 'none';\n",
              "\n",
              "      async function convertToInteractive(key) {\n",
              "        const element = document.querySelector('#df-aef6a094-8d2e-4734-afbb-e67f55dd2c95');\n",
              "        const dataTable =\n",
              "          await google.colab.kernel.invokeFunction('convertToInteractive',\n",
              "                                                    [key], {});\n",
              "        if (!dataTable) return;\n",
              "\n",
              "        const docLinkHtml = 'Like what you see? Visit the ' +\n",
              "          '<a target=\"_blank\" href=https://colab.research.google.com/notebooks/data_table.ipynb>data table notebook</a>'\n",
              "          + ' to learn more about interactive tables.';\n",
              "        element.innerHTML = '';\n",
              "        dataTable['output_type'] = 'display_data';\n",
              "        await google.colab.output.renderOutput(dataTable, element);\n",
              "        const docLink = document.createElement('div');\n",
              "        docLink.innerHTML = docLinkHtml;\n",
              "        element.appendChild(docLink);\n",
              "      }\n",
              "    </script>\n",
              "  </div>\n",
              "\n",
              "\n",
              "<div id=\"df-daea270b-e600-449c-bd7a-14ed2e5b94bd\">\n",
              "  <button class=\"colab-df-quickchart\" onclick=\"quickchart('df-daea270b-e600-449c-bd7a-14ed2e5b94bd')\"\n",
              "            title=\"Suggest charts\"\n",
              "            style=\"display:none;\">\n",
              "\n",
              "<svg xmlns=\"http://www.w3.org/2000/svg\" height=\"24px\"viewBox=\"0 0 24 24\"\n",
              "     width=\"24px\">\n",
              "    <g>\n",
              "        <path d=\"M19 3H5c-1.1 0-2 .9-2 2v14c0 1.1.9 2 2 2h14c1.1 0 2-.9 2-2V5c0-1.1-.9-2-2-2zM9 17H7v-7h2v7zm4 0h-2V7h2v10zm4 0h-2v-4h2v4z\"/>\n",
              "    </g>\n",
              "</svg>\n",
              "  </button>\n",
              "\n",
              "<style>\n",
              "  .colab-df-quickchart {\n",
              "      --bg-color: #E8F0FE;\n",
              "      --fill-color: #1967D2;\n",
              "      --hover-bg-color: #E2EBFA;\n",
              "      --hover-fill-color: #174EA6;\n",
              "      --disabled-fill-color: #AAA;\n",
              "      --disabled-bg-color: #DDD;\n",
              "  }\n",
              "\n",
              "  [theme=dark] .colab-df-quickchart {\n",
              "      --bg-color: #3B4455;\n",
              "      --fill-color: #D2E3FC;\n",
              "      --hover-bg-color: #434B5C;\n",
              "      --hover-fill-color: #FFFFFF;\n",
              "      --disabled-bg-color: #3B4455;\n",
              "      --disabled-fill-color: #666;\n",
              "  }\n",
              "\n",
              "  .colab-df-quickchart {\n",
              "    background-color: var(--bg-color);\n",
              "    border: none;\n",
              "    border-radius: 50%;\n",
              "    cursor: pointer;\n",
              "    display: none;\n",
              "    fill: var(--fill-color);\n",
              "    height: 32px;\n",
              "    padding: 0;\n",
              "    width: 32px;\n",
              "  }\n",
              "\n",
              "  .colab-df-quickchart:hover {\n",
              "    background-color: var(--hover-bg-color);\n",
              "    box-shadow: 0 1px 2px rgba(60, 64, 67, 0.3), 0 1px 3px 1px rgba(60, 64, 67, 0.15);\n",
              "    fill: var(--button-hover-fill-color);\n",
              "  }\n",
              "\n",
              "  .colab-df-quickchart-complete:disabled,\n",
              "  .colab-df-quickchart-complete:disabled:hover {\n",
              "    background-color: var(--disabled-bg-color);\n",
              "    fill: var(--disabled-fill-color);\n",
              "    box-shadow: none;\n",
              "  }\n",
              "\n",
              "  .colab-df-spinner {\n",
              "    border: 2px solid var(--fill-color);\n",
              "    border-color: transparent;\n",
              "    border-bottom-color: var(--fill-color);\n",
              "    animation:\n",
              "      spin 1s steps(1) infinite;\n",
              "  }\n",
              "\n",
              "  @keyframes spin {\n",
              "    0% {\n",
              "      border-color: transparent;\n",
              "      border-bottom-color: var(--fill-color);\n",
              "      border-left-color: var(--fill-color);\n",
              "    }\n",
              "    20% {\n",
              "      border-color: transparent;\n",
              "      border-left-color: var(--fill-color);\n",
              "      border-top-color: var(--fill-color);\n",
              "    }\n",
              "    30% {\n",
              "      border-color: transparent;\n",
              "      border-left-color: var(--fill-color);\n",
              "      border-top-color: var(--fill-color);\n",
              "      border-right-color: var(--fill-color);\n",
              "    }\n",
              "    40% {\n",
              "      border-color: transparent;\n",
              "      border-right-color: var(--fill-color);\n",
              "      border-top-color: var(--fill-color);\n",
              "    }\n",
              "    60% {\n",
              "      border-color: transparent;\n",
              "      border-right-color: var(--fill-color);\n",
              "    }\n",
              "    80% {\n",
              "      border-color: transparent;\n",
              "      border-right-color: var(--fill-color);\n",
              "      border-bottom-color: var(--fill-color);\n",
              "    }\n",
              "    90% {\n",
              "      border-color: transparent;\n",
              "      border-bottom-color: var(--fill-color);\n",
              "    }\n",
              "  }\n",
              "</style>\n",
              "\n",
              "  <script>\n",
              "    async function quickchart(key) {\n",
              "      const quickchartButtonEl =\n",
              "        document.querySelector('#' + key + ' button');\n",
              "      quickchartButtonEl.disabled = true;  // To prevent multiple clicks.\n",
              "      quickchartButtonEl.classList.add('colab-df-spinner');\n",
              "      try {\n",
              "        const charts = await google.colab.kernel.invokeFunction(\n",
              "            'suggestCharts', [key], {});\n",
              "      } catch (error) {\n",
              "        console.error('Error during call to suggestCharts:', error);\n",
              "      }\n",
              "      quickchartButtonEl.classList.remove('colab-df-spinner');\n",
              "      quickchartButtonEl.classList.add('colab-df-quickchart-complete');\n",
              "    }\n",
              "    (() => {\n",
              "      let quickchartButtonEl =\n",
              "        document.querySelector('#df-daea270b-e600-449c-bd7a-14ed2e5b94bd button');\n",
              "      quickchartButtonEl.style.display =\n",
              "        google.colab.kernel.accessAllowed ? 'block' : 'none';\n",
              "    })();\n",
              "  </script>\n",
              "</div>\n",
              "\n",
              "    </div>\n",
              "  </div>\n"
            ],
            "application/vnd.google.colaboratory.intrinsic+json": {
              "type": "dataframe",
              "summary": "{\n  \"name\": \"df1\",\n  \"rows\": 8,\n  \"fields\": [\n    {\n      \"column\": \"id\",\n      \"properties\": {\n        \"dtype\": \"number\",\n        \"std\": 13050593.07756437,\n        \"min\": 2539.0,\n        \"max\": 36487245.0,\n        \"num_unique_values\": 8,\n        \"samples\": [\n          19017143.236179568,\n          19677284.0,\n          48895.0\n        ],\n        \"semantic_type\": \"\",\n        \"description\": \"\"\n      }\n    },\n    {\n      \"column\": \"host_id\",\n      \"properties\": {\n        \"dtype\": \"number\",\n        \"std\": 91353984.9812982,\n        \"min\": 2438.0,\n        \"max\": 274321313.0,\n        \"num_unique_values\": 8,\n        \"samples\": [\n          67620010.64661008,\n          30793816.0,\n          48895.0\n        ],\n        \"semantic_type\": \"\",\n        \"description\": \"\"\n      }\n    },\n    {\n      \"column\": \"latitude\",\n      \"properties\": {\n        \"dtype\": \"number\",\n        \"std\": 17274.65621338401,\n        \"min\": 0.054530078057371915,\n        \"max\": 48895.0,\n        \"num_unique_values\": 8,\n        \"samples\": [\n          40.72894888066264,\n          40.72307,\n          48895.0\n        ],\n        \"semantic_type\": \"\",\n        \"description\": \"\"\n      }\n    },\n    {\n      \"column\": \"longitude\",\n      \"properties\": {\n        \"dtype\": \"number\",\n        \"std\": 17309.4245840868,\n        \"min\": -74.24442,\n        \"max\": 48895.0,\n        \"num_unique_values\": 8,\n        \"samples\": [\n          -73.95216961468454,\n          -73.95568,\n          48895.0\n        ],\n        \"semantic_type\": \"\",\n        \"description\": \"\"\n      }\n    },\n    {\n      \"column\": \"price\",\n      \"properties\": {\n        \"dtype\": \"number\",\n        \"std\": 17097.469027198676,\n        \"min\": 0.0,\n        \"max\": 48895.0,\n        \"num_unique_values\": 8,\n        \"samples\": [\n          152.7206871868289,\n          106.0,\n          48895.0\n        ],\n        \"semantic_type\": \"\",\n        \"description\": \"\"\n      }\n    },\n    {\n      \"column\": \"minimum_nights\",\n      \"properties\": {\n        \"dtype\": \"number\",\n        \"std\": 17227.46192058729,\n        \"min\": 1.0,\n        \"max\": 48895.0,\n        \"num_unique_values\": 7,\n        \"samples\": [\n          48895.0,\n          7.029962163820431,\n          5.0\n        ],\n        \"semantic_type\": \"\",\n        \"description\": \"\"\n      }\n    },\n    {\n      \"column\": \"number_of_reviews\",\n      \"properties\": {\n        \"dtype\": \"number\",\n        \"std\": 17251.621473766536,\n        \"min\": 0.0,\n        \"max\": 48895.0,\n        \"num_unique_values\": 8,\n        \"samples\": [\n          23.274465691788528,\n          5.0,\n          48895.0\n        ],\n        \"semantic_type\": \"\",\n        \"description\": \"\"\n      }\n    },\n    {\n      \"column\": \"reviews_per_month\",\n      \"properties\": {\n        \"dtype\": \"number\",\n        \"std\": 13729.83169025149,\n        \"min\": 0.01,\n        \"max\": 38843.0,\n        \"num_unique_values\": 8,\n        \"samples\": [\n          1.3732214298586618,\n          0.72,\n          38843.0\n        ],\n        \"semantic_type\": \"\",\n        \"description\": \"\"\n      }\n    },\n    {\n      \"column\": \"calculated_host_listings_count\",\n      \"properties\": {\n        \"dtype\": \"number\",\n        \"std\": 17268.564537091872,\n        \"min\": 1.0,\n        \"max\": 48895.0,\n        \"num_unique_values\": 6,\n        \"samples\": [\n          48895.0,\n          7.143982002249719,\n          327.0\n        ],\n        \"semantic_type\": \"\",\n        \"description\": \"\"\n      }\n    },\n    {\n      \"column\": \"availability_365\",\n      \"properties\": {\n        \"dtype\": \"number\",\n        \"std\": 17242.913879680455,\n        \"min\": 0.0,\n        \"max\": 48895.0,\n        \"num_unique_values\": 7,\n        \"samples\": [\n          48895.0,\n          112.78132733408324,\n          227.0\n        ],\n        \"semantic_type\": \"\",\n        \"description\": \"\"\n      }\n    }\n  ]\n}"
            }
          },
          "metadata": {},
          "execution_count": 142
        }
      ]
    },
    {
      "cell_type": "code",
      "source": [
        "df1.isnull().sum()"
      ],
      "metadata": {
        "colab": {
          "base_uri": "https://localhost:8080/"
        },
        "id": "BGQVguV1naY0",
        "outputId": "8b1fea4a-5b9c-40ed-df19-449423250955"
      },
      "execution_count": 143,
      "outputs": [
        {
          "output_type": "execute_result",
          "data": {
            "text/plain": [
              "id                                    0\n",
              "name                                 16\n",
              "host_id                               0\n",
              "host_name                            21\n",
              "neighbourhood_group                   0\n",
              "neighbourhood                         0\n",
              "latitude                              0\n",
              "longitude                             0\n",
              "room_type                             0\n",
              "price                                 0\n",
              "minimum_nights                        0\n",
              "number_of_reviews                     0\n",
              "last_review                       10052\n",
              "reviews_per_month                 10052\n",
              "calculated_host_listings_count        0\n",
              "availability_365                      0\n",
              "dtype: int64"
            ]
          },
          "metadata": {},
          "execution_count": 143
        }
      ]
    },
    {
      "cell_type": "code",
      "source": [
        "plt.figure(figsize=(18, 8))\n",
        "sns.heatmap(df1.isnull(), cmap='viridis', cbar=False, yticklabels=False)\n",
        "plt.title('Missing Values Heatmap')\n",
        "plt.show()"
      ],
      "metadata": {
        "colab": {
          "base_uri": "https://localhost:8080/",
          "height": 894
        },
        "id": "oAlxEfaBvn25",
        "outputId": "b1412472-b94e-4910-a44f-2a83ddddb871"
      },
      "execution_count": 144,
      "outputs": [
        {
          "output_type": "display_data",
          "data": {
            "text/plain": [
              "<Figure size 1800x800 with 1 Axes>"
            ],
            "image/png": "[encoded data removed]"
          },
          "metadata": {}
        }
      ]
    },
    {
      "cell_type": "code",
      "source": [
        "for column in df3.columns:\n",
        "    unique_values = df3[column].unique()\n",
        "    print(f\"Unique values for variable '{column}': {unique_values}\")"
      ],
      "metadata": {
        "colab": {
          "base_uri": "https://localhost:8080/"
        },
        "id": "R3RmhQTeRcZA",
        "outputId": "b3aaa375-573c-41c2-e03e-906f94e76163"
      },
      "execution_count": 160,
      "outputs": [
        {
          "output_type": "stream",
          "name": "stdout",
          "text": [
            "Unique values for variable 'index': [  0   1   2   3   4   5   6   7   8   9  10  11  12  13  14  15  16  17\n",
            "  18  19  20  21  22  23  24  25  26  27  28  29  30  31  32  33  34  35\n",
            "  36  37  38  39  40  41  42  43  44  45  46  47  48  49  50  51  52  53\n",
            "  54  55  56  57  58  59  60  61  62  63  64  65  66  67  68  69  70  71\n",
            "  72  73  74  75  76  77  78  79  80  81  82  83  84  85  86  87  88  89\n",
            "  90  91  92  93  94  95  96  97  98  99 100 101 102 103 104 105 106 107\n",
            " 108 109 110 111 112 113 114 115 116 117 118 119 120 121 122 123 124 125\n",
            " 126 127 128 129 130 131 132 133 134 135 136 137 138 139 140 141 142 143\n",
            " 144 145 146 147 148 149 150 151 152 153 154 155 156 157 158 159 160 161\n",
            " 162 163 164 165 166 167 168 169 170 171 172 173 174 175 176 177 178 179\n",
            " 180 181 182 183 184 185 186 187 188 189 190 191 192 193 194 195 196 197\n",
            " 198 199 200 201 202 203 204 205 206 207 208 209 210 211 212 213 214 215\n",
            " 216 217 218 219 220 221 222 223 224 225 226 227 228 229 230 231 232 233\n",
            " 234 235 236 237 238 239 240 241 242 243 244 245 246 247 248 249 250 251\n",
            " 252 253 254 255 256 257 258 259 260 261 262 263 264 265 266 267 268 269\n",
            " 270 271 272 273 274 275 276 277 278 279 280 281 282 283 284 285 286 287\n",
            " 288 289 290 291 292 293 294 295 296 297 298 299 300 301 302 303 304 305\n",
            " 306 307 308 309 310 311 312 313 314 315 316 317 318 319 320 321 322 323\n",
            " 324 325 326 327 328 329 330 331 332 333 334 335 336 337 338 339 340 341\n",
            " 342 343 344 345 346 347 348 349 350 351 352 353 354 355 356 357 358 359\n",
            " 360 361 362 363 364 365 366 367 368 369 370 371 372 373 374 375 376 377\n",
            " 378 379 380 381 382 383 384 385 386 387 388 389 390 391 392 393 394 395\n",
            " 396 397 398 399 400 401 402 403 404 405 406 407 408 409 410 411 412 413\n",
            " 414 415 416 417 418 419 420 421 422 423 424 425 426 427 428 429 430 431\n",
            " 432 433 434 435 436 437 438 439 440 441 442 443 444 445 446 447 448 449\n",
            " 450 451 452 453 454 455 456 457 458 459 460 461 462 463 464 465 466 467\n",
            " 468 469 470 471 472 473 474 475 476 477 478 479 480 481 482 483 484 485\n",
            " 486 487 488 489 490 491 492 493 494 495 496 497 498 499 500 501 502 503\n",
            " 504 505 506 507 508 509 510 511 512 513 514 515 516 517 518 519 520 521\n",
            " 522 523 524 525 526 527 528 529 530 531 532 533 534 535 536 537 538 539\n",
            " 540 541 542 543 544 545 546 547 548 549 550 551 552 553 554 555 556 557\n",
            " 558 559 560 561 562 563 564 565 566 567 568 569 570 571 572 573 574 575\n",
            " 576 577 578 579 580 581 582 583 584 585 586 587 588 589 590 591 592 593\n",
            " 594 595 596 597 598 599 600 601 602 603 604 605 606 607 608 609 610 611\n",
            " 612 613 614 615 616 617 618 619 620 621 622 623 624 625 626 627 628 629\n",
            " 630 631 632 633 634 635 636 637 638 639 640 641 642 643 644 645 646 647\n",
            " 648 649 650 651 652 653 654 655 656 657 658 659 660 661 662 663 664 665\n",
            " 666 667 668 669 670 671 672 673 674 675 676 677 678 679 680 681 682 683\n",
            " 684 685 686 687 688 689 690 691 692 693 694 695 696 697 698 699 700 701\n",
            " 702 703 704 705 706 707 708 709 710 711 712 713 714 715 716 717 718 719\n",
            " 720 721 722 723 724 725 726 727 728 729 730 731 732 733 734 735 736 737\n",
            " 738 739 740 741 742 743 744 745 746 747 748 749 750 751 752 753 754 755\n",
            " 756 757 758 759 760 761 762 763 764 765 766 767 768 769 770 771 772 773\n",
            " 774 775 776 777 778 779 780 781 782 783 784 785 786 787 788 789 790 791\n",
            " 792 793 794 795 796 797 798 799 800 801 802 803 804 805 806 807 808 809\n",
            " 810 811 812 813 814 815 816 817 818 819 820 821 822 823 824 825 826 827\n",
            " 828 829]\n",
            "Unique values for variable 'date': ['15/10/14 06:58' '15/10/14 14:46' '15/10/14 14:48' '15/10/14 17:27'\n",
            " '15/10/14 18:55' '16/10/14 06:58' '16/10/14 15:01' '16/10/14 15:12'\n",
            " '16/10/14 15:30' '16/10/14 16:21' '16/10/14 22:18' '16/10/14 22:21'\n",
            " '17/10/14 06:58' '17/10/14 10:53' '17/10/14 11:19' '17/10/14 11:20'\n",
            " '17/10/14 17:22' '17/10/14 17:23' '17/10/14 17:26' '17/10/14 17:29'\n",
            " '17/10/14 17:30' '17/10/14 17:42' '17/10/14 17:44' '18/10/14 06:58'\n",
            " '18/10/14 11:51' '18/10/14 12:06' '18/10/14 13:08' '18/10/14 13:10'\n",
            " '18/10/14 14:01' '18/10/14 18:52' '18/10/14 20:44' '18/10/14 21:04'\n",
            " '18/10/14 21:06' '18/10/14 21:23' '18/10/14 22:37' '19/10/14 06:58'\n",
            " '19/10/14 14:47' '19/10/14 15:46' '19/10/14 16:21' '19/10/14 16:30'\n",
            " '19/10/14 20:25' '20/10/14 06:58' '20/10/14 09:43' '20/10/14 13:55'\n",
            " '20/10/14 13:56' '20/10/14 18:14' '20/10/14 18:24' '20/10/14 19:59'\n",
            " '20/10/14 20:16' '21/10/14 06:58' '21/10/14 16:17' '22/10/14 06:58'\n",
            " '22/10/14 12:04' '23/10/14 06:58' '23/10/14 08:34' '23/10/14 09:45'\n",
            " '23/10/14 10:46' '23/10/14 10:54' '23/10/14 11:17' '23/10/14 11:25'\n",
            " '23/10/14 17:48' '24/10/14 06:58' '24/10/14 13:35' '24/10/14 13:39'\n",
            " '24/10/14 13:47' '24/10/14 13:48' '24/10/14 13:50' '24/10/14 13:57'\n",
            " '24/10/14 14:20' '24/10/14 14:27' '24/10/14 18:29' '24/10/14 18:33'\n",
            " '24/10/14 18:40' '25/10/14 06:58' '26/10/14 06:58' '26/10/14 14:51'\n",
            " '26/10/14 21:10' '26/10/14 21:22' '26/10/14 21:38' '27/10/14 01:45'\n",
            " '27/10/14 06:58' '27/10/14 11:03' '27/10/14 16:30' '27/10/14 19:20'\n",
            " '27/10/14 19:55' '28/10/14 06:58' '28/10/14 16:39' '28/10/14 20:44'\n",
            " '29/10/14 06:58' '29/10/14 12:56' '30/10/14 06:58' '30/10/14 14:31'\n",
            " '30/10/14 19:48' '30/10/14 20:02' '31/10/14 06:58' '31/10/14 07:46'\n",
            " '31/10/14 08:00' '31/10/14 13:26' '31/10/14 13:27' '31/10/14 14:10'\n",
            " '31/10/14 18:29' '31/10/14 18:30' '31/10/14 18:39' '01/11/14 06:58'\n",
            " '01/11/14 15:13' '01/11/14 17:54' '02/11/14 06:58' '02/11/14 14:34'\n",
            " '02/11/14 15:44' '02/11/14 19:16' '02/11/14 21:42' '02/11/14 22:55'\n",
            " '03/11/14 06:58' '03/11/14 08:40' '03/11/14 10:30' '03/11/14 10:37'\n",
            " '03/11/14 10:47' '03/11/14 14:04' '03/11/14 15:27' '03/11/14 16:07'\n",
            " '03/11/14 16:10' '03/11/14 17:03' '03/11/14 22:36' '04/11/14 06:58'\n",
            " '04/11/14 11:58' '04/11/14 13:12' '04/11/14 14:05' '04/11/14 14:26'\n",
            " '04/11/14 16:13' '04/11/14 16:19' '04/11/14 16:22' '04/11/14 16:24'\n",
            " '04/11/14 16:34' '04/11/14 16:39' '04/11/14 16:41' '04/11/14 16:45'\n",
            " '04/11/14 18:26' '04/11/14 20:15' '04/11/14 20:16' '05/11/14 06:58'\n",
            " '05/11/14 10:59' '05/11/14 11:30' '05/11/14 11:43' '05/11/14 12:43'\n",
            " '05/11/14 19:35' '06/11/14 01:02' '06/11/14 06:58' '06/11/14 09:04'\n",
            " '06/11/14 09:05' '06/11/14 09:47' '06/11/14 09:50' '06/11/14 09:52'\n",
            " '06/11/14 09:54' '06/11/14 11:47' '06/11/14 14:52' '06/11/14 18:02'\n",
            " '06/11/14 18:07' '07/11/14 06:58' '07/11/14 09:33' '07/11/14 17:51'\n",
            " '07/11/14 21:04' '07/11/14 21:10' '07/11/14 21:12' '07/11/14 21:19'\n",
            " '07/11/14 21:25' '07/11/14 21:31' '07/11/14 22:04' '08/11/14 06:58'\n",
            " '08/11/14 16:33' '08/11/14 18:18' '09/11/14 01:41' '09/11/14 01:49'\n",
            " '09/11/14 01:50' '09/11/14 02:04' '09/11/14 06:58' '09/11/14 19:21'\n",
            " '09/11/14 22:09' '10/11/14 06:58' '10/11/14 09:29' '10/11/14 11:36'\n",
            " '10/11/14 14:59' '10/11/14 15:15' '10/11/14 18:19' '10/11/14 18:34'\n",
            " '11/11/14 06:58' '11/11/14 09:28' '11/11/14 11:32' '11/11/14 11:37'\n",
            " '11/11/14 12:39' '11/11/14 14:13' '11/11/14 14:20' '11/11/14 14:41'\n",
            " '11/11/14 19:56' '12/11/14 06:58' '12/11/14 10:48' '12/11/14 10:49'\n",
            " '12/11/14 12:04' '12/11/14 13:49' '12/11/14 16:16' '12/11/14 16:19'\n",
            " '12/11/14 16:42' '12/11/14 17:14' '12/11/14 17:49' '12/11/14 17:56'\n",
            " '12/11/14 17:59' '12/11/14 19:01' '12/11/14 19:18' '12/11/14 19:20'\n",
            " '13/11/14 06:58' '13/11/14 22:30' '13/11/14 22:31' '14/11/14 06:58'\n",
            " '14/11/14 17:24' '14/11/14 17:28' '15/11/14 06:58' '16/11/14 06:58'\n",
            " '16/11/14 14:05' '17/11/14 06:58' '18/11/14 06:58' '18/11/14 08:22'\n",
            " '18/11/14 08:29' '18/11/14 08:33' '18/11/14 08:34' '18/11/14 08:39'\n",
            " '18/11/14 08:42' '18/11/14 08:45' '18/11/14 09:35' '19/11/14 06:58'\n",
            " '19/11/14 14:05' '19/11/14 14:11' '19/11/14 18:56' '19/11/14 22:48'\n",
            " '20/11/14 06:58' '20/11/14 14:57' '20/11/14 14:59' '20/11/14 16:22'\n",
            " '20/11/14 19:08' '20/11/14 21:03' '21/11/14 00:17' '21/11/14 01:13'\n",
            " '21/11/14 06:58' '21/11/14 10:29' '21/11/14 10:30' '21/11/14 11:29'\n",
            " '21/11/14 11:31' '21/11/14 11:49' '21/11/14 11:50' '21/11/14 13:31'\n",
            " '21/11/14 18:07' '22/11/14 02:10' '22/11/14 06:58' '22/11/14 12:02'\n",
            " '22/11/14 12:10' '22/11/14 14:30' '22/11/14 14:33' '22/11/14 14:34'\n",
            " '23/11/14 06:58' '23/11/14 13:24' '23/11/14 16:10' '23/11/14 17:36'\n",
            " '23/11/14 17:53' '23/11/14 17:54' '24/11/14 06:58' '24/11/14 09:40'\n",
            " '24/11/14 12:24' '25/11/14 06:58' '25/11/14 11:25' '25/11/14 16:09'\n",
            " '25/11/14 16:19' '25/11/14 17:10' '25/11/14 18:06' '25/11/14 18:18'\n",
            " '25/11/14 18:47' '25/11/14 19:10' '25/11/14 19:20' '25/11/14 19:21'\n",
            " '25/11/14 19:25' '25/11/14 19:26' '25/11/14 20:39' '26/11/14 06:58'\n",
            " '26/11/14 07:03' '26/11/14 07:15' '26/11/14 07:57' '26/11/14 07:59'\n",
            " '26/11/14 08:00' '26/11/14 08:13' '26/11/14 08:16' '26/11/14 08:26'\n",
            " '26/11/14 08:27' '26/11/14 09:01' '26/11/14 11:53' '26/11/14 11:54'\n",
            " '26/11/14 11:56' '26/11/14 17:48' '27/11/14 06:58' '27/11/14 16:53'\n",
            " '27/11/14 18:38' '28/11/14 06:58' '28/11/14 13:05' '28/11/14 13:12'\n",
            " '28/11/14 19:03' '29/11/14 06:58' '29/11/14 14:44' '30/11/14 06:58'\n",
            " '30/11/14 11:45' '30/11/14 11:48' '30/11/14 12:06' '30/11/14 14:24'\n",
            " '30/11/14 14:44' '30/11/14 14:51' '01/12/14 06:58' '01/12/14 12:51'\n",
            " '01/12/14 12:59' '02/12/14 06:58' '02/12/14 11:40' '03/12/14 06:58'\n",
            " '03/12/14 15:01' '03/12/14 18:10' '04/12/14 06:58' '04/12/14 13:52'\n",
            " '04/12/14 15:34' '04/12/14 16:02' '04/12/14 23:41' '05/12/14 06:58'\n",
            " '05/12/14 16:49' '05/12/14 18:17' '05/12/14 18:25' '06/12/14 06:58'\n",
            " '06/12/14 11:33' '06/12/14 18:25' '06/12/14 18:26' '06/12/14 18:27'\n",
            " '06/12/14 18:28' '06/12/14 19:40' '07/12/14 06:58' '07/12/14 13:03'\n",
            " '07/12/14 13:45' '07/12/14 14:39' '07/12/14 20:23' '07/12/14 20:36'\n",
            " '07/12/14 20:37' '07/12/14 23:22' '08/12/14 06:58' '08/12/14 17:38'\n",
            " '09/12/14 06:58' '09/12/14 18:32' '10/12/14 06:58' '11/12/14 06:58'\n",
            " '12/12/14 06:58' '12/12/14 11:00' '12/12/14 18:14' '13/12/14 06:58'\n",
            " '13/12/14 14:56' '14/12/14 02:05' '14/12/14 02:07' '14/12/14 02:09'\n",
            " '14/12/14 06:58' '14/12/14 15:28' '14/12/14 19:54' '15/12/14 06:58'\n",
            " '15/12/14 19:56' '15/12/14 19:58' '15/12/14 20:03' '15/12/14 20:10'\n",
            " '15/12/14 23:12' '16/12/14 06:58' '17/12/14 06:58' '17/12/14 18:08'\n",
            " '17/12/14 23:26' '18/12/14 06:58' '18/12/14 12:36' '18/12/14 15:46'\n",
            " '18/12/14 15:57' '18/12/14 16:10' '18/12/14 17:54' '18/12/14 19:05'\n",
            " '18/12/14 21:58' '18/12/14 21:59' '19/12/14 06:58' '19/12/14 08:57'\n",
            " '19/12/14 10:14' '19/12/14 12:40' '19/12/14 12:41' '19/12/14 14:48'\n",
            " '19/12/14 16:49' '19/12/14 16:51' '19/12/14 17:00' '19/12/14 18:44'\n",
            " '20/12/14 06:58' '20/12/14 14:39' '20/12/14 15:20' '20/12/14 15:53'\n",
            " '20/12/14 16:09' '21/12/14 00:05' '21/12/14 06:58' '22/12/14 06:58'\n",
            " '22/12/14 10:42' '22/12/14 11:22' '22/12/14 13:33' '22/12/14 14:09'\n",
            " '22/12/14 14:15' '22/12/14 18:03' '22/12/14 19:10' '22/12/14 19:12'\n",
            " '22/12/14 19:35' '22/12/14 19:36' '22/12/14 23:12' '23/12/14 00:57'\n",
            " '23/12/14 06:58' '23/12/14 09:17' '23/12/14 11:03' '23/12/14 12:49'\n",
            " '23/12/14 15:39' '23/12/14 15:40' '23/12/14 15:43' '23/12/14 19:45'\n",
            " '23/12/14 20:02' '23/12/14 21:06' '24/12/14 06:58' '24/12/14 13:22'\n",
            " '24/12/14 13:29' '24/12/14 13:56' '24/12/14 17:06' '24/12/14 17:07'\n",
            " '24/12/14 18:44' '24/12/14 20:44' '24/12/14 23:34' '25/12/14 06:58'\n",
            " '25/12/14 12:27' '26/12/14 06:58' '26/12/14 11:09' '26/12/14 11:48'\n",
            " '27/12/14 06:58' '27/12/14 22:30' '28/12/14 06:58' '29/12/14 06:58'\n",
            " '29/12/14 12:09' '30/12/14 06:58' '30/12/14 11:57' '30/12/14 12:01'\n",
            " '30/12/14 12:02' '30/12/14 12:03' '30/12/14 12:04' '30/12/14 12:05'\n",
            " '30/12/14 12:06' '30/12/14 12:10' '30/12/14 12:13' '30/12/14 12:14'\n",
            " '31/12/14 06:58' '31/12/14 13:00' '31/12/14 13:03' '31/12/14 13:49'\n",
            " '31/12/14 23:05' '31/12/14 23:37' '01/01/15 06:58' '02/01/15 06:58'\n",
            " '02/01/15 11:27' '02/01/15 23:26' '02/01/15 23:28' '03/01/15 06:58'\n",
            " '03/01/15 12:01' '04/01/15 00:57' '04/01/15 06:58' '04/01/15 14:20'\n",
            " '04/01/15 14:31' '04/01/15 14:32' '05/01/15 06:58' '05/01/15 09:49'\n",
            " '05/01/15 09:51' '05/01/15 10:10' '05/01/15 10:25' '05/01/15 10:52'\n",
            " '05/01/15 10:56' '05/01/15 11:58' '05/01/15 14:29' '05/01/15 16:41'\n",
            " '05/01/15 17:22' '05/01/15 20:23' '06/01/15 06:58' '06/01/15 09:04'\n",
            " '06/01/15 13:28' '06/01/15 13:29' '06/01/15 13:55' '06/01/15 19:17'\n",
            " '06/01/15 20:40' '07/01/15 06:58' '07/01/15 09:28' '07/01/15 21:20'\n",
            " '08/01/15 06:58' '08/01/15 15:02' '08/01/15 15:10' '08/01/15 20:15'\n",
            " '08/01/15 20:26' '08/01/15 20:30' '08/01/15 20:31' '08/01/15 22:41'\n",
            " '08/01/15 22:52' '08/01/15 23:06' '09/01/15 06:58' '09/01/15 09:25'\n",
            " '09/01/15 09:43' '09/01/15 10:07' '09/01/15 17:32' '10/01/15 06:58'\n",
            " '10/01/15 14:10' '10/01/15 14:36' '10/01/15 14:44' '10/01/15 15:58'\n",
            " '10/01/15 16:57' '10/01/15 21:16' '11/01/15 06:58' '11/01/15 13:29'\n",
            " '11/01/15 13:54' '12/01/15 06:58' '12/01/15 12:01' '12/01/15 18:23'\n",
            " '12/01/15 18:26' '13/01/15 06:58' '13/01/15 15:04' '13/01/15 19:09'\n",
            " '13/01/15 19:44' '13/01/15 19:57' '13/01/15 19:58' '13/01/15 20:00'\n",
            " '14/01/15 06:58' '14/01/15 17:15' '14/01/15 19:16' '14/01/15 20:47'\n",
            " '14/01/15 23:34' '14/01/15 23:35' '14/01/15 23:36' '15/01/15 06:58'\n",
            " '15/01/15 10:36' '15/01/15 12:23' '15/01/15 17:22' '16/01/15 06:58'\n",
            " '16/01/15 09:45' '16/01/15 09:56' '16/01/15 10:17' '16/01/15 10:25'\n",
            " '16/01/15 17:46' '16/01/15 18:07' '17/01/15 06:58' '17/01/15 18:50'\n",
            " '17/01/15 21:59' '18/01/15 06:58' '18/01/15 16:27' '18/01/15 17:04'\n",
            " '19/01/15 06:58' '19/01/15 12:44' '19/01/15 19:57' '19/01/15 20:08'\n",
            " '19/01/15 20:14' '20/01/15 06:58' '20/01/15 15:08' '20/01/15 19:49'\n",
            " '20/01/15 20:23' '21/01/15 06:58' '21/01/15 10:13' '21/01/15 14:36'\n",
            " '21/01/15 14:44' '21/01/15 15:56' '21/01/15 15:57' '21/01/15 18:04'\n",
            " '21/01/15 19:38' '21/01/15 19:59' '22/01/15 06:58' '22/01/15 18:59'\n",
            " '22/01/15 19:00' '23/01/15 06:58' '23/01/15 12:56' '23/01/15 14:32'\n",
            " '23/01/15 15:09' '23/01/15 15:22' '23/01/15 15:24' '23/01/15 15:37'\n",
            " '23/01/15 21:22' '24/01/15 06:58' '25/01/15 06:58' '25/01/15 09:16'\n",
            " '25/01/15 16:55' '26/01/15 06:58' '26/01/15 16:54' '26/01/15 17:15'\n",
            " '27/01/15 06:58' '27/01/15 09:36' '27/01/15 10:55' '28/01/15 06:58'\n",
            " '28/01/15 09:44' '28/01/15 10:02' '28/01/15 15:53' '29/01/15 06:58'\n",
            " '29/01/15 11:35' '29/01/15 11:50' '29/01/15 17:11' '29/01/15 17:19'\n",
            " '29/01/15 17:58' '29/01/15 18:05' '29/01/15 19:27' '30/01/15 06:58'\n",
            " '30/01/15 19:43' '30/01/15 19:56' '31/01/15 06:58' '31/01/15 12:48'\n",
            " '31/01/15 13:14' '01/02/15 06:58' '01/02/15 13:33' '02/02/15 06:58'\n",
            " '02/02/15 17:11' '02/02/15 17:16' '02/02/15 17:35' '02/02/15 18:17'\n",
            " '03/02/15 06:58' '03/02/15 14:45' '04/02/15 06:58' '04/02/15 12:36'\n",
            " '04/02/15 14:52' '04/02/15 17:04' '05/02/15 06:58' '05/02/15 13:37'\n",
            " '05/02/15 13:38' '06/02/15 06:58' '06/02/15 10:36' '06/02/15 10:37'\n",
            " '06/02/15 18:39' '06/02/15 18:41' '07/02/15 06:58' '07/02/15 09:48'\n",
            " '07/02/15 10:03' '07/02/15 11:13' '07/02/15 11:37' '07/02/15 15:04'\n",
            " '07/02/15 16:06' '07/02/15 16:11' '07/02/15 16:16' '07/02/15 16:27'\n",
            " '07/02/15 17:33' '07/02/15 17:56' '07/02/15 18:23' '07/02/15 22:18'\n",
            " '07/02/15 22:30' '08/02/15 06:58' '08/02/15 20:54' '09/02/15 06:58'\n",
            " '09/02/15 09:08' '09/02/15 17:41' '09/02/15 17:54' '09/02/15 18:32'\n",
            " '09/02/15 22:54' '10/02/15 00:24' '10/02/15 06:58' '10/02/15 21:40'\n",
            " '11/02/15 06:58' '12/02/15 06:58' '12/02/15 20:15' '12/02/15 20:51'\n",
            " '13/02/15 06:58' '13/02/15 10:58' '13/02/15 21:13' '14/02/15 06:58'\n",
            " '14/02/15 15:40' '14/02/15 16:06' '15/02/15 06:58' '15/02/15 18:44'\n",
            " '16/02/15 06:58' '17/02/15 06:58' '17/02/15 15:59' '17/02/15 19:09'\n",
            " '18/02/15 06:58' '18/02/15 18:49' '18/02/15 19:56' '19/02/15 06:58'\n",
            " '19/02/15 18:46' '19/02/15 22:00' '20/02/15 06:58' '20/02/15 13:45'\n",
            " '21/02/15 06:58' '22/02/15 06:58' '23/02/15 06:58' '23/02/15 20:49'\n",
            " '24/02/15 06:58' '24/02/15 10:05' '24/02/15 13:32' '25/02/15 06:58'\n",
            " '25/02/15 12:56' '25/02/15 12:58' '25/02/15 13:15' '25/02/15 13:21'\n",
            " '25/02/15 13:22' '25/02/15 13:26' '25/02/15 13:46' '25/02/15 15:45'\n",
            " '26/02/15 06:58' '26/02/15 16:38' '26/02/15 22:34' '27/02/15 06:58'\n",
            " '27/02/15 13:50' '27/02/15 14:33' '27/02/15 14:36' '28/02/15 06:58'\n",
            " '28/02/15 14:09' '28/02/15 14:57' '28/02/15 15:09' '28/02/15 15:49'\n",
            " '28/02/15 16:00' '28/02/15 17:13' '28/02/15 17:14' '28/02/15 17:17'\n",
            " '28/02/15 21:25' '28/02/15 21:55' '28/02/15 22:39' '01/03/15 06:58'\n",
            " '01/03/15 12:19' '02/03/15 06:58' '02/03/15 09:19' '02/03/15 09:23'\n",
            " '02/03/15 09:30' '02/03/15 13:07' '02/03/15 14:53' '02/03/15 14:54'\n",
            " '02/03/15 17:35' '02/03/15 20:48' '03/03/15 06:58' '03/03/15 09:57'\n",
            " '03/03/15 09:59' '03/03/15 10:12' '03/03/15 10:27' '03/03/15 14:34'\n",
            " '03/03/15 18:36' '04/03/15 06:58' '04/03/15 07:02' '04/03/15 07:16'\n",
            " '04/03/15 10:30' '04/03/15 12:29' '05/03/15 06:58' '06/03/15 06:58'\n",
            " '07/03/15 06:58' '08/03/15 06:58' '09/03/15 06:58' '10/03/15 06:58'\n",
            " '11/03/15 06:58' '12/03/15 06:58' '13/03/15 00:38' '13/03/15 00:39'\n",
            " '13/03/15 06:58' '14/03/15 00:13' '14/03/15 00:16']\n",
            "Unique values for variable 'duration': [3.4429e+01 1.3000e+01 2.3000e+01 4.0000e+00 6.0200e+02 1.0500e+03\n",
            " 1.9000e+01 1.1830e+03 1.0000e+00 9.2000e+01 3.7500e+02 7.8300e+02\n",
            " 3.0000e+00 1.0100e+02 1.7140e+03 9.6000e+01 3.8400e+02 5.3000e+01\n",
            " 8.6000e+01 3.8000e+01 4.2800e+02 6.9000e+01 1.8000e+01 6.0000e+00\n",
            " 5.0000e+00 1.3100e+02 5.5000e+02 7.0000e+00 1.9400e+03 2.8100e+02\n",
            " 2.4000e+01 2.6300e+02 3.8700e+02 6.3700e+02 2.8000e+01 6.2000e+01\n",
            " 1.4600e+02 4.8000e+01 8.6200e+02 2.5000e+01 8.3300e+02 2.0600e+02\n",
            " 4.4200e+02 4.6300e+02 1.2340e+03 4.3000e+01 4.8300e+02 9.5500e+02\n",
            " 4.5900e+02 1.0230e+03 1.0250e+03 1.6900e+02 8.0000e+00 1.3500e+02\n",
            " 3.7000e+01 1.2300e+02 9.0000e+01 9.8000e+01 9.0000e+00 1.1000e+01\n",
            " 1.6600e+02 5.5000e+01 2.9000e+01 1.5000e+02 8.9000e+01 7.5000e+01\n",
            " 2.7900e+02 4.5200e+02 1.2050e+03 2.1800e+02 4.1000e+01 1.4000e+01\n",
            " 1.7800e+02 4.1200e+02 3.6000e+01 1.4500e+02 1.0010e+03 1.2400e+02\n",
            " 1.2800e+02 2.4900e+02 2.1200e+03 7.1000e+01 5.6000e+01 1.7000e+01\n",
            " 9.8200e+02 3.4000e+01 6.0000e+02 2.4400e+02 1.8600e+02 2.0000e+01\n",
            " 2.0000e+00 2.0800e+02 1.0700e+02 2.1000e+01 1.1400e+02 8.1000e+01\n",
            " 1.7400e+02 4.0000e+01 6.3000e+01 1.0000e+01 1.1160e+03 1.4300e+02\n",
            " 1.5100e+02 5.2600e+02 8.4400e+02 3.8300e+02 1.5000e+01 4.6500e+02\n",
            " 1.5300e+02 8.2600e+02 1.9100e+02 9.9000e+01 7.2700e+02 3.3000e+01\n",
            " 1.2000e+02 1.1200e+02 5.2000e+01 2.2300e+02 7.4000e+01 5.9000e+01\n",
            " 1.8590e+03 6.1000e+01 2.6800e+02 1.9200e+02 4.6000e+01 2.1700e+02\n",
            " 5.8000e+01 5.4300e+02 5.5300e+02 5.4000e+01 4.8900e+02 4.7000e+01\n",
            " 5.6600e+02 9.5600e+02 4.4900e+02 3.9000e+01 2.3400e+02 1.6500e+02\n",
            " 3.6800e+02 3.5800e+02 6.4000e+02 1.5800e+02 1.0400e+02 7.7000e+01\n",
            " 1.4400e+02 6.0000e+01 6.8200e+02 7.3400e+02 1.6000e+01 2.9500e+02\n",
            " 1.0600e+02 2.9000e+02 1.2000e+01 1.2470e+03 5.7000e+01 3.9800e+02\n",
            " 5.6800e+02 2.0100e+02 5.0300e+02 1.0500e+02 4.6600e+02 3.9700e+02\n",
            " 1.6800e+02 4.1100e+02 7.8000e+01 8.2000e+01 4.7800e+02 7.0000e+02\n",
            " 1.0300e+02 9.3000e+01 2.7000e+01 2.6500e+02 7.7700e+02 1.0900e+03\n",
            " 4.9100e+02 1.1070e+03 2.0000e+02 1.2900e+02 1.8630e+03 5.0100e+02\n",
            " 2.7200e+02 2.5500e+02 3.6200e+02 1.0000e+02 4.5000e+01 3.1000e+01\n",
            " 2.8000e+02 1.8300e+02 2.2700e+02 9.1000e+01 5.1000e+01 1.1900e+02\n",
            " 1.4100e+02 7.9500e+02 1.2100e+02 8.0000e+01 6.5300e+02 7.2900e+02\n",
            " 4.5100e+02 1.4800e+02 2.3280e+03 9.4000e+01 6.8000e+01 1.8200e+02\n",
            " 1.1700e+02 3.5600e+02 1.9400e+02 2.2900e+02 3.2000e+01 5.7000e+02\n",
            " 3.3500e+02 4.9000e+01 3.0500e+02 2.0700e+02 3.5700e+02 7.6000e+01\n",
            " 3.5500e+02 7.4500e+02 1.3250e+03 7.6800e+02 1.0528e+04]\n",
            "Unique values for variable 'item': ['data' 'call' 'sms']\n",
            "Unique values for variable 'month': ['2014-11' '2014-12' '2015-01' '2015-02' '2015-03']\n",
            "Unique values for variable 'network': ['data' 'Vodafone' 'Meteor' 'Tesco' 'Three' 'voicemail' 'landline'\n",
            " 'special' 'world']\n",
            "Unique values for variable 'network_type': ['data' 'mobile' 'voicemail' 'landline' 'special' 'world']\n"
          ]
        }
      ]
    }
  ]
}